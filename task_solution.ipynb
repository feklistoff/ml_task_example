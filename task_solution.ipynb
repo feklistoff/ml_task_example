{
 "cells": [
  {
   "cell_type": "markdown",
   "id": "eligible-specialist",
   "metadata": {},
   "source": [
    "# ML Task\n",
    "\n",
    "---\n",
    "# Overview\n",
    "\n",
    "This is a project where I build and train a model (classifier) to predict the target variable of a given anonymized dataset that contains a small set of features. \n",
    "\n",
    "**Goals of this Project:**\n",
    "\n",
    "* Exploratory data analysis (EDA).\n",
    "* Dataset engineering pipeline.\n",
    "* Training and validation data splitting.\n",
    "* Model selection, training, and evaluation.\n",
    "* Results reporting and discussing.\n",
    "\n",
    "---\n",
    "# Dataset Exploration\n",
    "\n",
    "Overall steps:\n",
    "- create virtual environment\n",
    "- explore data\n",
    "- decide on the data format for training\n",
    "- preprocess data\n",
    "- split data to training and validation parts"
   ]
  },
  {
   "cell_type": "code",
   "execution_count": 1,
   "id": "swedish-ancient",
   "metadata": {},
   "outputs": [
    {
     "data": {
      "application/javascript": [
       "\n",
       "            setTimeout(function() {\n",
       "                var nbb_cell_id = 1;\n",
       "                var nbb_unformatted_code = \"# Code auto-formatting\\n%load_ext nb_black\";\n",
       "                var nbb_formatted_code = \"# Code auto-formatting\\n%load_ext nb_black\";\n",
       "                var nbb_cells = Jupyter.notebook.get_cells();\n",
       "                for (var i = 0; i < nbb_cells.length; ++i) {\n",
       "                    if (nbb_cells[i].input_prompt_number == nbb_cell_id) {\n",
       "                        if (nbb_cells[i].get_text() == nbb_unformatted_code) {\n",
       "                             nbb_cells[i].set_text(nbb_formatted_code);\n",
       "                        }\n",
       "                        break;\n",
       "                    }\n",
       "                }\n",
       "            }, 500);\n",
       "            "
      ],
      "text/plain": [
       "<IPython.core.display.Javascript object>"
      ]
     },
     "metadata": {},
     "output_type": "display_data"
    }
   ],
   "source": [
    "# Code auto-formatting\n",
    "%load_ext nb_black"
   ]
  },
  {
   "cell_type": "markdown",
   "id": "outstanding-bolivia",
   "metadata": {},
   "source": [
    "## Necessary imports"
   ]
  },
  {
   "cell_type": "code",
   "execution_count": 2,
   "id": "broad-archives",
   "metadata": {},
   "outputs": [
    {
     "data": {
      "application/javascript": [
       "\n",
       "            setTimeout(function() {\n",
       "                var nbb_cell_id = 2;\n",
       "                var nbb_unformatted_code = \"import numpy as np\\nimport pandas as pd\\nimport matplotlib.pyplot as plt\\nfrom pathlib import Path\\n\\nfrom sklearn.preprocessing import MinMaxScaler\\nfrom sklearn.ensemble import RandomForestClassifier\\nfrom sklearn.calibration import CalibratedClassifierCV\\nfrom sklearn.model_selection import train_test_split\\nfrom sklearn.metrics import classification_report, precision_recall_curve, f1_score\\n\\n\\nimport tensorflow as tf\\nfrom tensorflow import keras\\nfrom tensorflow.keras.models import Sequential\\nfrom tensorflow.keras.layers import Dense, Dropout, Input\\nfrom tensorflow.keras.optimizers import Adam\\nfrom tensorflow.keras.callbacks import LearningRateScheduler, EarlyStopping\\nimport tensorflow.keras.backend as K\";\n",
       "                var nbb_formatted_code = \"import numpy as np\\nimport pandas as pd\\nimport matplotlib.pyplot as plt\\nfrom pathlib import Path\\n\\nfrom sklearn.preprocessing import MinMaxScaler\\nfrom sklearn.ensemble import RandomForestClassifier\\nfrom sklearn.calibration import CalibratedClassifierCV\\nfrom sklearn.model_selection import train_test_split\\nfrom sklearn.metrics import classification_report, precision_recall_curve, f1_score\\n\\n\\nimport tensorflow as tf\\nfrom tensorflow import keras\\nfrom tensorflow.keras.models import Sequential\\nfrom tensorflow.keras.layers import Dense, Dropout, Input\\nfrom tensorflow.keras.optimizers import Adam\\nfrom tensorflow.keras.callbacks import LearningRateScheduler, EarlyStopping\\nimport tensorflow.keras.backend as K\";\n",
       "                var nbb_cells = Jupyter.notebook.get_cells();\n",
       "                for (var i = 0; i < nbb_cells.length; ++i) {\n",
       "                    if (nbb_cells[i].input_prompt_number == nbb_cell_id) {\n",
       "                        if (nbb_cells[i].get_text() == nbb_unformatted_code) {\n",
       "                             nbb_cells[i].set_text(nbb_formatted_code);\n",
       "                        }\n",
       "                        break;\n",
       "                    }\n",
       "                }\n",
       "            }, 500);\n",
       "            "
      ],
      "text/plain": [
       "<IPython.core.display.Javascript object>"
      ]
     },
     "metadata": {},
     "output_type": "display_data"
    }
   ],
   "source": [
    "import numpy as np\n",
    "import pandas as pd\n",
    "import matplotlib.pyplot as plt\n",
    "from pathlib import Path\n",
    "\n",
    "from sklearn.preprocessing import MinMaxScaler\n",
    "from sklearn.ensemble import RandomForestClassifier\n",
    "from sklearn.calibration import CalibratedClassifierCV\n",
    "from sklearn.model_selection import train_test_split\n",
    "from sklearn.metrics import classification_report, precision_recall_curve, f1_score\n",
    "\n",
    "\n",
    "import tensorflow as tf\n",
    "from tensorflow import keras\n",
    "from tensorflow.keras.models import Sequential\n",
    "from tensorflow.keras.layers import Dense, Dropout, Input\n",
    "from tensorflow.keras.optimizers import Adam\n",
    "from tensorflow.keras.callbacks import LearningRateScheduler, EarlyStopping\n",
    "import tensorflow.keras.backend as K"
   ]
  },
  {
   "cell_type": "markdown",
   "id": "searching-leather",
   "metadata": {},
   "source": [
    "## Load and inspect the data"
   ]
  },
  {
   "cell_type": "code",
   "execution_count": 3,
   "id": "reasonable-manner",
   "metadata": {},
   "outputs": [
    {
     "data": {
      "application/javascript": [
       "\n",
       "            setTimeout(function() {\n",
       "                var nbb_cell_id = 3;\n",
       "                var nbb_unformatted_code = \"data_path = Path(\\\"data.csv\\\").resolve()\\ndata_df = pd.read_csv(data_path)\";\n",
       "                var nbb_formatted_code = \"data_path = Path(\\\"data.csv\\\").resolve()\\ndata_df = pd.read_csv(data_path)\";\n",
       "                var nbb_cells = Jupyter.notebook.get_cells();\n",
       "                for (var i = 0; i < nbb_cells.length; ++i) {\n",
       "                    if (nbb_cells[i].input_prompt_number == nbb_cell_id) {\n",
       "                        if (nbb_cells[i].get_text() == nbb_unformatted_code) {\n",
       "                             nbb_cells[i].set_text(nbb_formatted_code);\n",
       "                        }\n",
       "                        break;\n",
       "                    }\n",
       "                }\n",
       "            }, 500);\n",
       "            "
      ],
      "text/plain": [
       "<IPython.core.display.Javascript object>"
      ]
     },
     "metadata": {},
     "output_type": "display_data"
    }
   ],
   "source": [
    "data_path = Path(\"data.csv\").resolve()\n",
    "data_df = pd.read_csv(data_path)"
   ]
  },
  {
   "cell_type": "code",
   "execution_count": 4,
   "id": "legal-circulation",
   "metadata": {},
   "outputs": [
    {
     "data": {
      "text/html": [
       "<div>\n",
       "<style scoped>\n",
       "    .dataframe tbody tr th:only-of-type {\n",
       "        vertical-align: middle;\n",
       "    }\n",
       "\n",
       "    .dataframe tbody tr th {\n",
       "        vertical-align: top;\n",
       "    }\n",
       "\n",
       "    .dataframe thead th {\n",
       "        text-align: right;\n",
       "    }\n",
       "</style>\n",
       "<table border=\"1\" class=\"dataframe\">\n",
       "  <thead>\n",
       "    <tr style=\"text-align: right;\">\n",
       "      <th></th>\n",
       "      <th>date</th>\n",
       "      <th>numeric0</th>\n",
       "      <th>numeric1</th>\n",
       "      <th>categorical0</th>\n",
       "      <th>time</th>\n",
       "      <th>target</th>\n",
       "    </tr>\n",
       "  </thead>\n",
       "  <tbody>\n",
       "    <tr>\n",
       "      <th>0</th>\n",
       "      <td>2015-11-24</td>\n",
       "      <td>2515</td>\n",
       "      <td>2.0</td>\n",
       "      <td>c</td>\n",
       "      <td>01:33:52</td>\n",
       "      <td>0</td>\n",
       "    </tr>\n",
       "    <tr>\n",
       "      <th>1</th>\n",
       "      <td>2009-03-05</td>\n",
       "      <td>5156</td>\n",
       "      <td>NaN</td>\n",
       "      <td>b</td>\n",
       "      <td>20:09:27</td>\n",
       "      <td>0</td>\n",
       "    </tr>\n",
       "    <tr>\n",
       "      <th>2</th>\n",
       "      <td>2015-12-23</td>\n",
       "      <td>5930</td>\n",
       "      <td>NaN</td>\n",
       "      <td>b</td>\n",
       "      <td>11:22:35</td>\n",
       "      <td>0</td>\n",
       "    </tr>\n",
       "    <tr>\n",
       "      <th>3</th>\n",
       "      <td>1992-02-16</td>\n",
       "      <td>2967</td>\n",
       "      <td>NaN</td>\n",
       "      <td>b</td>\n",
       "      <td>19:18:36</td>\n",
       "      <td>0</td>\n",
       "    </tr>\n",
       "    <tr>\n",
       "      <th>4</th>\n",
       "      <td>1971-06-06</td>\n",
       "      <td>194</td>\n",
       "      <td>5.0</td>\n",
       "      <td>c</td>\n",
       "      <td>20:01:58</td>\n",
       "      <td>0</td>\n",
       "    </tr>\n",
       "  </tbody>\n",
       "</table>\n",
       "</div>"
      ],
      "text/plain": [
       "         date  numeric0  numeric1 categorical0      time  target\n",
       "0  2015-11-24      2515       2.0            c  01:33:52       0\n",
       "1  2009-03-05      5156       NaN            b  20:09:27       0\n",
       "2  2015-12-23      5930       NaN            b  11:22:35       0\n",
       "3  1992-02-16      2967       NaN            b  19:18:36       0\n",
       "4  1971-06-06       194       5.0            c  20:01:58       0"
      ]
     },
     "execution_count": 4,
     "metadata": {},
     "output_type": "execute_result"
    },
    {
     "data": {
      "application/javascript": [
       "\n",
       "            setTimeout(function() {\n",
       "                var nbb_cell_id = 4;\n",
       "                var nbb_unformatted_code = \"data_df.head()\";\n",
       "                var nbb_formatted_code = \"data_df.head()\";\n",
       "                var nbb_cells = Jupyter.notebook.get_cells();\n",
       "                for (var i = 0; i < nbb_cells.length; ++i) {\n",
       "                    if (nbb_cells[i].input_prompt_number == nbb_cell_id) {\n",
       "                        if (nbb_cells[i].get_text() == nbb_unformatted_code) {\n",
       "                             nbb_cells[i].set_text(nbb_formatted_code);\n",
       "                        }\n",
       "                        break;\n",
       "                    }\n",
       "                }\n",
       "            }, 500);\n",
       "            "
      ],
      "text/plain": [
       "<IPython.core.display.Javascript object>"
      ]
     },
     "metadata": {},
     "output_type": "display_data"
    }
   ],
   "source": [
    "data_df.head()"
   ]
  },
  {
   "cell_type": "code",
   "execution_count": 5,
   "id": "threaded-ceramic",
   "metadata": {},
   "outputs": [
    {
     "name": "stdout",
     "output_type": "stream",
     "text": [
      "<class 'pandas.core.frame.DataFrame'>\n",
      "RangeIndex: 10000 entries, 0 to 9999\n",
      "Data columns (total 6 columns):\n",
      " #   Column        Non-Null Count  Dtype  \n",
      "---  ------        --------------  -----  \n",
      " 0   date          10000 non-null  object \n",
      " 1   numeric0      10000 non-null  int64  \n",
      " 2   numeric1      5083 non-null   float64\n",
      " 3   categorical0  10000 non-null  object \n",
      " 4   time          10000 non-null  object \n",
      " 5   target        10000 non-null  int64  \n",
      "dtypes: float64(1), int64(2), object(3)\n",
      "memory usage: 468.9+ KB\n"
     ]
    },
    {
     "data": {
      "application/javascript": [
       "\n",
       "            setTimeout(function() {\n",
       "                var nbb_cell_id = 5;\n",
       "                var nbb_unformatted_code = \"data_df.info()\";\n",
       "                var nbb_formatted_code = \"data_df.info()\";\n",
       "                var nbb_cells = Jupyter.notebook.get_cells();\n",
       "                for (var i = 0; i < nbb_cells.length; ++i) {\n",
       "                    if (nbb_cells[i].input_prompt_number == nbb_cell_id) {\n",
       "                        if (nbb_cells[i].get_text() == nbb_unformatted_code) {\n",
       "                             nbb_cells[i].set_text(nbb_formatted_code);\n",
       "                        }\n",
       "                        break;\n",
       "                    }\n",
       "                }\n",
       "            }, 500);\n",
       "            "
      ],
      "text/plain": [
       "<IPython.core.display.Javascript object>"
      ]
     },
     "metadata": {},
     "output_type": "display_data"
    }
   ],
   "source": [
    "data_df.info()"
   ]
  },
  {
   "cell_type": "markdown",
   "id": "european-desert",
   "metadata": {},
   "source": [
    "---\n",
    "We have a lot of missing data for `numeric1` column, about 50%."
   ]
  },
  {
   "cell_type": "code",
   "execution_count": 6,
   "id": "improving-integration",
   "metadata": {},
   "outputs": [
    {
     "data": {
      "text/html": [
       "<div>\n",
       "<style scoped>\n",
       "    .dataframe tbody tr th:only-of-type {\n",
       "        vertical-align: middle;\n",
       "    }\n",
       "\n",
       "    .dataframe tbody tr th {\n",
       "        vertical-align: top;\n",
       "    }\n",
       "\n",
       "    .dataframe thead th {\n",
       "        text-align: right;\n",
       "    }\n",
       "</style>\n",
       "<table border=\"1\" class=\"dataframe\">\n",
       "  <thead>\n",
       "    <tr style=\"text-align: right;\">\n",
       "      <th></th>\n",
       "      <th>numeric0</th>\n",
       "      <th>numeric1</th>\n",
       "      <th>target</th>\n",
       "    </tr>\n",
       "  </thead>\n",
       "  <tbody>\n",
       "    <tr>\n",
       "      <th>count</th>\n",
       "      <td>10000.000000</td>\n",
       "      <td>5083.000000</td>\n",
       "      <td>10000.000000</td>\n",
       "    </tr>\n",
       "    <tr>\n",
       "      <th>mean</th>\n",
       "      <td>4981.998600</td>\n",
       "      <td>4.540035</td>\n",
       "      <td>0.133000</td>\n",
       "    </tr>\n",
       "    <tr>\n",
       "      <th>std</th>\n",
       "      <td>2886.313858</td>\n",
       "      <td>2.863159</td>\n",
       "      <td>0.339592</td>\n",
       "    </tr>\n",
       "    <tr>\n",
       "      <th>min</th>\n",
       "      <td>0.000000</td>\n",
       "      <td>0.000000</td>\n",
       "      <td>0.000000</td>\n",
       "    </tr>\n",
       "    <tr>\n",
       "      <th>25%</th>\n",
       "      <td>2499.750000</td>\n",
       "      <td>2.000000</td>\n",
       "      <td>0.000000</td>\n",
       "    </tr>\n",
       "    <tr>\n",
       "      <th>50%</th>\n",
       "      <td>4940.500000</td>\n",
       "      <td>5.000000</td>\n",
       "      <td>0.000000</td>\n",
       "    </tr>\n",
       "    <tr>\n",
       "      <th>75%</th>\n",
       "      <td>7487.250000</td>\n",
       "      <td>7.000000</td>\n",
       "      <td>0.000000</td>\n",
       "    </tr>\n",
       "    <tr>\n",
       "      <th>max</th>\n",
       "      <td>9999.000000</td>\n",
       "      <td>9.000000</td>\n",
       "      <td>1.000000</td>\n",
       "    </tr>\n",
       "  </tbody>\n",
       "</table>\n",
       "</div>"
      ],
      "text/plain": [
       "           numeric0     numeric1        target\n",
       "count  10000.000000  5083.000000  10000.000000\n",
       "mean    4981.998600     4.540035      0.133000\n",
       "std     2886.313858     2.863159      0.339592\n",
       "min        0.000000     0.000000      0.000000\n",
       "25%     2499.750000     2.000000      0.000000\n",
       "50%     4940.500000     5.000000      0.000000\n",
       "75%     7487.250000     7.000000      0.000000\n",
       "max     9999.000000     9.000000      1.000000"
      ]
     },
     "execution_count": 6,
     "metadata": {},
     "output_type": "execute_result"
    },
    {
     "data": {
      "application/javascript": [
       "\n",
       "            setTimeout(function() {\n",
       "                var nbb_cell_id = 6;\n",
       "                var nbb_unformatted_code = \"data_df.describe()\";\n",
       "                var nbb_formatted_code = \"data_df.describe()\";\n",
       "                var nbb_cells = Jupyter.notebook.get_cells();\n",
       "                for (var i = 0; i < nbb_cells.length; ++i) {\n",
       "                    if (nbb_cells[i].input_prompt_number == nbb_cell_id) {\n",
       "                        if (nbb_cells[i].get_text() == nbb_unformatted_code) {\n",
       "                             nbb_cells[i].set_text(nbb_formatted_code);\n",
       "                        }\n",
       "                        break;\n",
       "                    }\n",
       "                }\n",
       "            }, 500);\n",
       "            "
      ],
      "text/plain": [
       "<IPython.core.display.Javascript object>"
      ]
     },
     "metadata": {},
     "output_type": "display_data"
    }
   ],
   "source": [
    "data_df.describe()"
   ]
  },
  {
   "cell_type": "markdown",
   "id": "nasty-attention",
   "metadata": {},
   "source": [
    "### Let's check target values"
   ]
  },
  {
   "cell_type": "code",
   "execution_count": 7,
   "id": "nuclear-handbook",
   "metadata": {},
   "outputs": [
    {
     "data": {
      "text/plain": [
       "target\n",
       "0    8670\n",
       "1    1330\n",
       "Name: count, dtype: int64"
      ]
     },
     "execution_count": 7,
     "metadata": {},
     "output_type": "execute_result"
    },
    {
     "data": {
      "application/javascript": [
       "\n",
       "            setTimeout(function() {\n",
       "                var nbb_cell_id = 7;\n",
       "                var nbb_unformatted_code = \"data_df.target.value_counts()\";\n",
       "                var nbb_formatted_code = \"data_df.target.value_counts()\";\n",
       "                var nbb_cells = Jupyter.notebook.get_cells();\n",
       "                for (var i = 0; i < nbb_cells.length; ++i) {\n",
       "                    if (nbb_cells[i].input_prompt_number == nbb_cell_id) {\n",
       "                        if (nbb_cells[i].get_text() == nbb_unformatted_code) {\n",
       "                             nbb_cells[i].set_text(nbb_formatted_code);\n",
       "                        }\n",
       "                        break;\n",
       "                    }\n",
       "                }\n",
       "            }, 500);\n",
       "            "
      ],
      "text/plain": [
       "<IPython.core.display.Javascript object>"
      ]
     },
     "metadata": {},
     "output_type": "display_data"
    }
   ],
   "source": [
    "data_df.target.value_counts()"
   ]
  },
  {
   "cell_type": "markdown",
   "id": "lesbian-preservation",
   "metadata": {},
   "source": [
    "Here, we can see that the data is highly imbalanced. If we predicted `0` every time, we would end up with accuracy of 86.7%"
   ]
  },
  {
   "cell_type": "markdown",
   "id": "superior-visitor",
   "metadata": {},
   "source": [
    "### After a quick glance we can see these issues:\n",
    "* Imbalanced data\n",
    "* Missing values ('NaN's) \n",
    "* Mix of numerical and categorical data\n",
    "* Date and timestamps (cyclic) data\n",
    "* Possible scaling/normalizing of the data need"
   ]
  },
  {
   "cell_type": "markdown",
   "id": "vietnamese-myrtle",
   "metadata": {},
   "source": [
    "### Let's investigate further"
   ]
  },
  {
   "cell_type": "code",
   "execution_count": 8,
   "id": "isolated-wells",
   "metadata": {},
   "outputs": [
    {
     "data": {
      "text/plain": [
       "categorical0\n",
       "b    3341\n",
       "c    3335\n",
       "a    3324\n",
       "Name: count, dtype: int64"
      ]
     },
     "execution_count": 8,
     "metadata": {},
     "output_type": "execute_result"
    },
    {
     "data": {
      "application/javascript": [
       "\n",
       "            setTimeout(function() {\n",
       "                var nbb_cell_id = 8;\n",
       "                var nbb_unformatted_code = \"data_df.categorical0.value_counts()\";\n",
       "                var nbb_formatted_code = \"data_df.categorical0.value_counts()\";\n",
       "                var nbb_cells = Jupyter.notebook.get_cells();\n",
       "                for (var i = 0; i < nbb_cells.length; ++i) {\n",
       "                    if (nbb_cells[i].input_prompt_number == nbb_cell_id) {\n",
       "                        if (nbb_cells[i].get_text() == nbb_unformatted_code) {\n",
       "                             nbb_cells[i].set_text(nbb_formatted_code);\n",
       "                        }\n",
       "                        break;\n",
       "                    }\n",
       "                }\n",
       "            }, 500);\n",
       "            "
      ],
      "text/plain": [
       "<IPython.core.display.Javascript object>"
      ]
     },
     "metadata": {},
     "output_type": "display_data"
    }
   ],
   "source": [
    "data_df.categorical0.value_counts()"
   ]
  },
  {
   "cell_type": "markdown",
   "id": "heavy-dover",
   "metadata": {},
   "source": [
    "`categorical0` column has only three unique values evenly spread accross the dataset"
   ]
  },
  {
   "cell_type": "code",
   "execution_count": 9,
   "id": "connected-publisher",
   "metadata": {},
   "outputs": [
    {
     "data": {
      "text/plain": [
       "numeric1\n",
       "2.0    541\n",
       "8.0    527\n",
       "6.0    526\n",
       "9.0    525\n",
       "4.0    522\n",
       "5.0    516\n",
       "3.0    490\n",
       "0.0    484\n",
       "1.0    484\n",
       "7.0    468\n",
       "Name: count, dtype: int64"
      ]
     },
     "execution_count": 9,
     "metadata": {},
     "output_type": "execute_result"
    },
    {
     "data": {
      "application/javascript": [
       "\n",
       "            setTimeout(function() {\n",
       "                var nbb_cell_id = 9;\n",
       "                var nbb_unformatted_code = \"data_df.numeric1.value_counts()\";\n",
       "                var nbb_formatted_code = \"data_df.numeric1.value_counts()\";\n",
       "                var nbb_cells = Jupyter.notebook.get_cells();\n",
       "                for (var i = 0; i < nbb_cells.length; ++i) {\n",
       "                    if (nbb_cells[i].input_prompt_number == nbb_cell_id) {\n",
       "                        if (nbb_cells[i].get_text() == nbb_unformatted_code) {\n",
       "                             nbb_cells[i].set_text(nbb_formatted_code);\n",
       "                        }\n",
       "                        break;\n",
       "                    }\n",
       "                }\n",
       "            }, 500);\n",
       "            "
      ],
      "text/plain": [
       "<IPython.core.display.Javascript object>"
      ]
     },
     "metadata": {},
     "output_type": "display_data"
    }
   ],
   "source": [
    "data_df.numeric1.value_counts()"
   ]
  },
  {
   "cell_type": "markdown",
   "id": "impressive-delicious",
   "metadata": {},
   "source": [
    "The same (values almost uniformly spread accross the dataset) we can observe for `numeric1` column. Also, we can see that it looks like we have only 10 unique values. Previously, we have spotted about 50% of the data is missing. Based on these observations, we can think of two ways to approach the missing data issue:\n",
    "- drop `numeric1` column (crude solution. not recommended)\n",
    "- impute the data"
   ]
  },
  {
   "cell_type": "code",
   "execution_count": 10,
   "id": "gorgeous-stage",
   "metadata": {},
   "outputs": [
    {
     "data": {
      "text/plain": [
       "<Axes: ylabel='Frequency'>"
      ]
     },
     "execution_count": 10,
     "metadata": {},
     "output_type": "execute_result"
    },
    {
     "data": {
      "image/png": "[encoded data removed]",
      "text/plain": [
       "<Figure size 640x480 with 1 Axes>"
      ]
     },
     "metadata": {},
     "output_type": "display_data"
    },
    {
     "data": {
      "application/javascript": [
       "\n",
       "            setTimeout(function() {\n",
       "                var nbb_cell_id = 10;\n",
       "                var nbb_unformatted_code = \"data_df.numeric0.plot.hist()\";\n",
       "                var nbb_formatted_code = \"data_df.numeric0.plot.hist()\";\n",
       "                var nbb_cells = Jupyter.notebook.get_cells();\n",
       "                for (var i = 0; i < nbb_cells.length; ++i) {\n",
       "                    if (nbb_cells[i].input_prompt_number == nbb_cell_id) {\n",
       "                        if (nbb_cells[i].get_text() == nbb_unformatted_code) {\n",
       "                             nbb_cells[i].set_text(nbb_formatted_code);\n",
       "                        }\n",
       "                        break;\n",
       "                    }\n",
       "                }\n",
       "            }, 500);\n",
       "            "
      ],
      "text/plain": [
       "<IPython.core.display.Javascript object>"
      ]
     },
     "metadata": {},
     "output_type": "display_data"
    }
   ],
   "source": [
    "data_df.numeric0.plot.hist()"
   ]
  },
  {
   "cell_type": "markdown",
   "id": "surgical-timeline",
   "metadata": {},
   "source": [
    "---\n",
    "Now, let's try to group some values"
   ]
  },
  {
   "cell_type": "code",
   "execution_count": 11,
   "id": "relative-parallel",
   "metadata": {},
   "outputs": [
    {
     "data": {
      "text/html": [
       "<div>\n",
       "<style scoped>\n",
       "    .dataframe tbody tr th:only-of-type {\n",
       "        vertical-align: middle;\n",
       "    }\n",
       "\n",
       "    .dataframe tbody tr th {\n",
       "        vertical-align: top;\n",
       "    }\n",
       "\n",
       "    .dataframe thead th {\n",
       "        text-align: right;\n",
       "    }\n",
       "</style>\n",
       "<table border=\"1\" class=\"dataframe\">\n",
       "  <thead>\n",
       "    <tr style=\"text-align: right;\">\n",
       "      <th></th>\n",
       "      <th></th>\n",
       "      <th></th>\n",
       "      <th>date</th>\n",
       "      <th>numeric0</th>\n",
       "      <th>time</th>\n",
       "    </tr>\n",
       "    <tr>\n",
       "      <th>numeric1</th>\n",
       "      <th>categorical0</th>\n",
       "      <th>target</th>\n",
       "      <th></th>\n",
       "      <th></th>\n",
       "      <th></th>\n",
       "    </tr>\n",
       "  </thead>\n",
       "  <tbody>\n",
       "    <tr>\n",
       "      <th rowspan=\"6\" valign=\"top\">0.0</th>\n",
       "      <th rowspan=\"2\" valign=\"top\">a</th>\n",
       "      <th>0</th>\n",
       "      <td>111</td>\n",
       "      <td>111</td>\n",
       "      <td>111</td>\n",
       "    </tr>\n",
       "    <tr>\n",
       "      <th>1</th>\n",
       "      <td>47</td>\n",
       "      <td>47</td>\n",
       "      <td>47</td>\n",
       "    </tr>\n",
       "    <tr>\n",
       "      <th rowspan=\"2\" valign=\"top\">b</th>\n",
       "      <th>0</th>\n",
       "      <td>161</td>\n",
       "      <td>161</td>\n",
       "      <td>161</td>\n",
       "    </tr>\n",
       "    <tr>\n",
       "      <th>1</th>\n",
       "      <td>4</td>\n",
       "      <td>4</td>\n",
       "      <td>4</td>\n",
       "    </tr>\n",
       "    <tr>\n",
       "      <th rowspan=\"2\" valign=\"top\">c</th>\n",
       "      <th>0</th>\n",
       "      <td>152</td>\n",
       "      <td>152</td>\n",
       "      <td>152</td>\n",
       "    </tr>\n",
       "    <tr>\n",
       "      <th>1</th>\n",
       "      <td>9</td>\n",
       "      <td>9</td>\n",
       "      <td>9</td>\n",
       "    </tr>\n",
       "    <tr>\n",
       "      <th rowspan=\"6\" valign=\"top\">1.0</th>\n",
       "      <th rowspan=\"2\" valign=\"top\">a</th>\n",
       "      <th>0</th>\n",
       "      <td>101</td>\n",
       "      <td>101</td>\n",
       "      <td>101</td>\n",
       "    </tr>\n",
       "    <tr>\n",
       "      <th>1</th>\n",
       "      <td>56</td>\n",
       "      <td>56</td>\n",
       "      <td>56</td>\n",
       "    </tr>\n",
       "    <tr>\n",
       "      <th rowspan=\"2\" valign=\"top\">b</th>\n",
       "      <th>0</th>\n",
       "      <td>163</td>\n",
       "      <td>163</td>\n",
       "      <td>163</td>\n",
       "    </tr>\n",
       "    <tr>\n",
       "      <th>1</th>\n",
       "      <td>3</td>\n",
       "      <td>3</td>\n",
       "      <td>3</td>\n",
       "    </tr>\n",
       "    <tr>\n",
       "      <th rowspan=\"2\" valign=\"top\">c</th>\n",
       "      <th>0</th>\n",
       "      <td>159</td>\n",
       "      <td>159</td>\n",
       "      <td>159</td>\n",
       "    </tr>\n",
       "    <tr>\n",
       "      <th>1</th>\n",
       "      <td>2</td>\n",
       "      <td>2</td>\n",
       "      <td>2</td>\n",
       "    </tr>\n",
       "    <tr>\n",
       "      <th rowspan=\"6\" valign=\"top\">2.0</th>\n",
       "      <th rowspan=\"2\" valign=\"top\">a</th>\n",
       "      <th>0</th>\n",
       "      <td>108</td>\n",
       "      <td>108</td>\n",
       "      <td>108</td>\n",
       "    </tr>\n",
       "    <tr>\n",
       "      <th>1</th>\n",
       "      <td>59</td>\n",
       "      <td>59</td>\n",
       "      <td>59</td>\n",
       "    </tr>\n",
       "    <tr>\n",
       "      <th rowspan=\"2\" valign=\"top\">b</th>\n",
       "      <th>0</th>\n",
       "      <td>180</td>\n",
       "      <td>180</td>\n",
       "      <td>180</td>\n",
       "    </tr>\n",
       "    <tr>\n",
       "      <th>1</th>\n",
       "      <td>8</td>\n",
       "      <td>8</td>\n",
       "      <td>8</td>\n",
       "    </tr>\n",
       "    <tr>\n",
       "      <th rowspan=\"2\" valign=\"top\">c</th>\n",
       "      <th>0</th>\n",
       "      <td>180</td>\n",
       "      <td>180</td>\n",
       "      <td>180</td>\n",
       "    </tr>\n",
       "    <tr>\n",
       "      <th>1</th>\n",
       "      <td>6</td>\n",
       "      <td>6</td>\n",
       "      <td>6</td>\n",
       "    </tr>\n",
       "    <tr>\n",
       "      <th rowspan=\"6\" valign=\"top\">3.0</th>\n",
       "      <th rowspan=\"2\" valign=\"top\">a</th>\n",
       "      <th>0</th>\n",
       "      <td>116</td>\n",
       "      <td>116</td>\n",
       "      <td>116</td>\n",
       "    </tr>\n",
       "    <tr>\n",
       "      <th>1</th>\n",
       "      <td>59</td>\n",
       "      <td>59</td>\n",
       "      <td>59</td>\n",
       "    </tr>\n",
       "    <tr>\n",
       "      <th rowspan=\"2\" valign=\"top\">b</th>\n",
       "      <th>0</th>\n",
       "      <td>140</td>\n",
       "      <td>140</td>\n",
       "      <td>140</td>\n",
       "    </tr>\n",
       "    <tr>\n",
       "      <th>1</th>\n",
       "      <td>3</td>\n",
       "      <td>3</td>\n",
       "      <td>3</td>\n",
       "    </tr>\n",
       "    <tr>\n",
       "      <th rowspan=\"2\" valign=\"top\">c</th>\n",
       "      <th>0</th>\n",
       "      <td>165</td>\n",
       "      <td>165</td>\n",
       "      <td>165</td>\n",
       "    </tr>\n",
       "    <tr>\n",
       "      <th>1</th>\n",
       "      <td>7</td>\n",
       "      <td>7</td>\n",
       "      <td>7</td>\n",
       "    </tr>\n",
       "    <tr>\n",
       "      <th rowspan=\"6\" valign=\"top\">4.0</th>\n",
       "      <th rowspan=\"2\" valign=\"top\">a</th>\n",
       "      <th>0</th>\n",
       "      <td>103</td>\n",
       "      <td>103</td>\n",
       "      <td>103</td>\n",
       "    </tr>\n",
       "    <tr>\n",
       "      <th>1</th>\n",
       "      <td>66</td>\n",
       "      <td>66</td>\n",
       "      <td>66</td>\n",
       "    </tr>\n",
       "    <tr>\n",
       "      <th rowspan=\"2\" valign=\"top\">b</th>\n",
       "      <th>0</th>\n",
       "      <td>164</td>\n",
       "      <td>164</td>\n",
       "      <td>164</td>\n",
       "    </tr>\n",
       "    <tr>\n",
       "      <th>1</th>\n",
       "      <td>11</td>\n",
       "      <td>11</td>\n",
       "      <td>11</td>\n",
       "    </tr>\n",
       "    <tr>\n",
       "      <th rowspan=\"2\" valign=\"top\">c</th>\n",
       "      <th>0</th>\n",
       "      <td>171</td>\n",
       "      <td>171</td>\n",
       "      <td>171</td>\n",
       "    </tr>\n",
       "    <tr>\n",
       "      <th>1</th>\n",
       "      <td>7</td>\n",
       "      <td>7</td>\n",
       "      <td>7</td>\n",
       "    </tr>\n",
       "    <tr>\n",
       "      <th rowspan=\"6\" valign=\"top\">5.0</th>\n",
       "      <th rowspan=\"2\" valign=\"top\">a</th>\n",
       "      <th>0</th>\n",
       "      <td>118</td>\n",
       "      <td>118</td>\n",
       "      <td>118</td>\n",
       "    </tr>\n",
       "    <tr>\n",
       "      <th>1</th>\n",
       "      <td>58</td>\n",
       "      <td>58</td>\n",
       "      <td>58</td>\n",
       "    </tr>\n",
       "    <tr>\n",
       "      <th rowspan=\"2\" valign=\"top\">b</th>\n",
       "      <th>0</th>\n",
       "      <td>164</td>\n",
       "      <td>164</td>\n",
       "      <td>164</td>\n",
       "    </tr>\n",
       "    <tr>\n",
       "      <th>1</th>\n",
       "      <td>5</td>\n",
       "      <td>5</td>\n",
       "      <td>5</td>\n",
       "    </tr>\n",
       "    <tr>\n",
       "      <th rowspan=\"2\" valign=\"top\">c</th>\n",
       "      <th>0</th>\n",
       "      <td>167</td>\n",
       "      <td>167</td>\n",
       "      <td>167</td>\n",
       "    </tr>\n",
       "    <tr>\n",
       "      <th>1</th>\n",
       "      <td>4</td>\n",
       "      <td>4</td>\n",
       "      <td>4</td>\n",
       "    </tr>\n",
       "    <tr>\n",
       "      <th rowspan=\"6\" valign=\"top\">6.0</th>\n",
       "      <th rowspan=\"2\" valign=\"top\">a</th>\n",
       "      <th>0</th>\n",
       "      <td>110</td>\n",
       "      <td>110</td>\n",
       "      <td>110</td>\n",
       "    </tr>\n",
       "    <tr>\n",
       "      <th>1</th>\n",
       "      <td>58</td>\n",
       "      <td>58</td>\n",
       "      <td>58</td>\n",
       "    </tr>\n",
       "    <tr>\n",
       "      <th rowspan=\"2\" valign=\"top\">b</th>\n",
       "      <th>0</th>\n",
       "      <td>170</td>\n",
       "      <td>170</td>\n",
       "      <td>170</td>\n",
       "    </tr>\n",
       "    <tr>\n",
       "      <th>1</th>\n",
       "      <td>5</td>\n",
       "      <td>5</td>\n",
       "      <td>5</td>\n",
       "    </tr>\n",
       "    <tr>\n",
       "      <th rowspan=\"2\" valign=\"top\">c</th>\n",
       "      <th>0</th>\n",
       "      <td>177</td>\n",
       "      <td>177</td>\n",
       "      <td>177</td>\n",
       "    </tr>\n",
       "    <tr>\n",
       "      <th>1</th>\n",
       "      <td>6</td>\n",
       "      <td>6</td>\n",
       "      <td>6</td>\n",
       "    </tr>\n",
       "    <tr>\n",
       "      <th rowspan=\"6\" valign=\"top\">7.0</th>\n",
       "      <th rowspan=\"2\" valign=\"top\">a</th>\n",
       "      <th>0</th>\n",
       "      <td>102</td>\n",
       "      <td>102</td>\n",
       "      <td>102</td>\n",
       "    </tr>\n",
       "    <tr>\n",
       "      <th>1</th>\n",
       "      <td>66</td>\n",
       "      <td>66</td>\n",
       "      <td>66</td>\n",
       "    </tr>\n",
       "    <tr>\n",
       "      <th rowspan=\"2\" valign=\"top\">b</th>\n",
       "      <th>0</th>\n",
       "      <td>154</td>\n",
       "      <td>154</td>\n",
       "      <td>154</td>\n",
       "    </tr>\n",
       "    <tr>\n",
       "      <th>1</th>\n",
       "      <td>2</td>\n",
       "      <td>2</td>\n",
       "      <td>2</td>\n",
       "    </tr>\n",
       "    <tr>\n",
       "      <th rowspan=\"2\" valign=\"top\">c</th>\n",
       "      <th>0</th>\n",
       "      <td>141</td>\n",
       "      <td>141</td>\n",
       "      <td>141</td>\n",
       "    </tr>\n",
       "    <tr>\n",
       "      <th>1</th>\n",
       "      <td>3</td>\n",
       "      <td>3</td>\n",
       "      <td>3</td>\n",
       "    </tr>\n",
       "    <tr>\n",
       "      <th rowspan=\"6\" valign=\"top\">8.0</th>\n",
       "      <th rowspan=\"2\" valign=\"top\">a</th>\n",
       "      <th>0</th>\n",
       "      <td>119</td>\n",
       "      <td>119</td>\n",
       "      <td>119</td>\n",
       "    </tr>\n",
       "    <tr>\n",
       "      <th>1</th>\n",
       "      <td>57</td>\n",
       "      <td>57</td>\n",
       "      <td>57</td>\n",
       "    </tr>\n",
       "    <tr>\n",
       "      <th rowspan=\"2\" valign=\"top\">b</th>\n",
       "      <th>0</th>\n",
       "      <td>181</td>\n",
       "      <td>181</td>\n",
       "      <td>181</td>\n",
       "    </tr>\n",
       "    <tr>\n",
       "      <th>1</th>\n",
       "      <td>4</td>\n",
       "      <td>4</td>\n",
       "      <td>4</td>\n",
       "    </tr>\n",
       "    <tr>\n",
       "      <th rowspan=\"2\" valign=\"top\">c</th>\n",
       "      <th>0</th>\n",
       "      <td>162</td>\n",
       "      <td>162</td>\n",
       "      <td>162</td>\n",
       "    </tr>\n",
       "    <tr>\n",
       "      <th>1</th>\n",
       "      <td>4</td>\n",
       "      <td>4</td>\n",
       "      <td>4</td>\n",
       "    </tr>\n",
       "    <tr>\n",
       "      <th rowspan=\"6\" valign=\"top\">9.0</th>\n",
       "      <th rowspan=\"2\" valign=\"top\">a</th>\n",
       "      <th>0</th>\n",
       "      <td>122</td>\n",
       "      <td>122</td>\n",
       "      <td>122</td>\n",
       "    </tr>\n",
       "    <tr>\n",
       "      <th>1</th>\n",
       "      <td>66</td>\n",
       "      <td>66</td>\n",
       "      <td>66</td>\n",
       "    </tr>\n",
       "    <tr>\n",
       "      <th rowspan=\"2\" valign=\"top\">b</th>\n",
       "      <th>0</th>\n",
       "      <td>170</td>\n",
       "      <td>170</td>\n",
       "      <td>170</td>\n",
       "    </tr>\n",
       "    <tr>\n",
       "      <th>1</th>\n",
       "      <td>7</td>\n",
       "      <td>7</td>\n",
       "      <td>7</td>\n",
       "    </tr>\n",
       "    <tr>\n",
       "      <th rowspan=\"2\" valign=\"top\">c</th>\n",
       "      <th>0</th>\n",
       "      <td>156</td>\n",
       "      <td>156</td>\n",
       "      <td>156</td>\n",
       "    </tr>\n",
       "    <tr>\n",
       "      <th>1</th>\n",
       "      <td>4</td>\n",
       "      <td>4</td>\n",
       "      <td>4</td>\n",
       "    </tr>\n",
       "  </tbody>\n",
       "</table>\n",
       "</div>"
      ],
      "text/plain": [
       "                              date  numeric0  time\n",
       "numeric1 categorical0 target                      \n",
       "0.0      a            0        111       111   111\n",
       "                      1         47        47    47\n",
       "         b            0        161       161   161\n",
       "                      1          4         4     4\n",
       "         c            0        152       152   152\n",
       "                      1          9         9     9\n",
       "1.0      a            0        101       101   101\n",
       "                      1         56        56    56\n",
       "         b            0        163       163   163\n",
       "                      1          3         3     3\n",
       "         c            0        159       159   159\n",
       "                      1          2         2     2\n",
       "2.0      a            0        108       108   108\n",
       "                      1         59        59    59\n",
       "         b            0        180       180   180\n",
       "                      1          8         8     8\n",
       "         c            0        180       180   180\n",
       "                      1          6         6     6\n",
       "3.0      a            0        116       116   116\n",
       "                      1         59        59    59\n",
       "         b            0        140       140   140\n",
       "                      1          3         3     3\n",
       "         c            0        165       165   165\n",
       "                      1          7         7     7\n",
       "4.0      a            0        103       103   103\n",
       "                      1         66        66    66\n",
       "         b            0        164       164   164\n",
       "                      1         11        11    11\n",
       "         c            0        171       171   171\n",
       "                      1          7         7     7\n",
       "5.0      a            0        118       118   118\n",
       "                      1         58        58    58\n",
       "         b            0        164       164   164\n",
       "                      1          5         5     5\n",
       "         c            0        167       167   167\n",
       "                      1          4         4     4\n",
       "6.0      a            0        110       110   110\n",
       "                      1         58        58    58\n",
       "         b            0        170       170   170\n",
       "                      1          5         5     5\n",
       "         c            0        177       177   177\n",
       "                      1          6         6     6\n",
       "7.0      a            0        102       102   102\n",
       "                      1         66        66    66\n",
       "         b            0        154       154   154\n",
       "                      1          2         2     2\n",
       "         c            0        141       141   141\n",
       "                      1          3         3     3\n",
       "8.0      a            0        119       119   119\n",
       "                      1         57        57    57\n",
       "         b            0        181       181   181\n",
       "                      1          4         4     4\n",
       "         c            0        162       162   162\n",
       "                      1          4         4     4\n",
       "9.0      a            0        122       122   122\n",
       "                      1         66        66    66\n",
       "         b            0        170       170   170\n",
       "                      1          7         7     7\n",
       "         c            0        156       156   156\n",
       "                      1          4         4     4"
      ]
     },
     "execution_count": 11,
     "metadata": {},
     "output_type": "execute_result"
    },
    {
     "data": {
      "application/javascript": [
       "\n",
       "            setTimeout(function() {\n",
       "                var nbb_cell_id = 11;\n",
       "                var nbb_unformatted_code = \"data_df.groupby([\\\"numeric1\\\", \\\"categorical0\\\", \\\"target\\\"]).count()\";\n",
       "                var nbb_formatted_code = \"data_df.groupby([\\\"numeric1\\\", \\\"categorical0\\\", \\\"target\\\"]).count()\";\n",
       "                var nbb_cells = Jupyter.notebook.get_cells();\n",
       "                for (var i = 0; i < nbb_cells.length; ++i) {\n",
       "                    if (nbb_cells[i].input_prompt_number == nbb_cell_id) {\n",
       "                        if (nbb_cells[i].get_text() == nbb_unformatted_code) {\n",
       "                             nbb_cells[i].set_text(nbb_formatted_code);\n",
       "                        }\n",
       "                        break;\n",
       "                    }\n",
       "                }\n",
       "            }, 500);\n",
       "            "
      ],
      "text/plain": [
       "<IPython.core.display.Javascript object>"
      ]
     },
     "metadata": {},
     "output_type": "display_data"
    }
   ],
   "source": [
    "data_df.groupby([\"numeric1\", \"categorical0\", \"target\"]).count()"
   ]
  },
  {
   "cell_type": "markdown",
   "id": "intimate-journal",
   "metadata": {},
   "source": [
    "**Interesting.** Looks like category `a` is more likely to be classified as `1` than `b` or `c`"
   ]
  },
  {
   "cell_type": "code",
   "execution_count": 12,
   "id": "received-spray",
   "metadata": {},
   "outputs": [
    {
     "data": {
      "text/plain": [
       "(9455, 7664)"
      ]
     },
     "execution_count": 12,
     "metadata": {},
     "output_type": "execute_result"
    },
    {
     "data": {
      "application/javascript": [
       "\n",
       "            setTimeout(function() {\n",
       "                var nbb_cell_id = 12;\n",
       "                var nbb_unformatted_code = \"# Inspect `date` and `time` values\\ndata_df.time.nunique(), data_df.date.nunique()\";\n",
       "                var nbb_formatted_code = \"# Inspect `date` and `time` values\\ndata_df.time.nunique(), data_df.date.nunique()\";\n",
       "                var nbb_cells = Jupyter.notebook.get_cells();\n",
       "                for (var i = 0; i < nbb_cells.length; ++i) {\n",
       "                    if (nbb_cells[i].input_prompt_number == nbb_cell_id) {\n",
       "                        if (nbb_cells[i].get_text() == nbb_unformatted_code) {\n",
       "                             nbb_cells[i].set_text(nbb_formatted_code);\n",
       "                        }\n",
       "                        break;\n",
       "                    }\n",
       "                }\n",
       "            }, 500);\n",
       "            "
      ],
      "text/plain": [
       "<IPython.core.display.Javascript object>"
      ]
     },
     "metadata": {},
     "output_type": "display_data"
    }
   ],
   "source": [
    "# Inspect `date` and `time` values\n",
    "data_df.time.nunique(), data_df.date.nunique()"
   ]
  },
  {
   "cell_type": "code",
   "execution_count": 13,
   "id": "separated-influence",
   "metadata": {},
   "outputs": [
    {
     "data": {
      "text/plain": [
       "(['1970-01-01', '1970-01-02', '1970-01-05', '1970-01-06', '1970-01-06'],\n",
       " ['2019-08-24', '2019-08-22', '2019-08-18', '2019-08-18', '2019-08-18'])"
      ]
     },
     "execution_count": 13,
     "metadata": {},
     "output_type": "execute_result"
    },
    {
     "data": {
      "application/javascript": [
       "\n",
       "            setTimeout(function() {\n",
       "                var nbb_cell_id = 13;\n",
       "                var nbb_unformatted_code = \"sorted(data_df.date.values)[:5], sorted(data_df.date.values, reverse=True)[:5]\";\n",
       "                var nbb_formatted_code = \"sorted(data_df.date.values)[:5], sorted(data_df.date.values, reverse=True)[:5]\";\n",
       "                var nbb_cells = Jupyter.notebook.get_cells();\n",
       "                for (var i = 0; i < nbb_cells.length; ++i) {\n",
       "                    if (nbb_cells[i].input_prompt_number == nbb_cell_id) {\n",
       "                        if (nbb_cells[i].get_text() == nbb_unformatted_code) {\n",
       "                             nbb_cells[i].set_text(nbb_formatted_code);\n",
       "                        }\n",
       "                        break;\n",
       "                    }\n",
       "                }\n",
       "            }, 500);\n",
       "            "
      ],
      "text/plain": [
       "<IPython.core.display.Javascript object>"
      ]
     },
     "metadata": {},
     "output_type": "display_data"
    }
   ],
   "source": [
    "sorted(data_df.date.values)[:5], sorted(data_df.date.values, reverse=True)[:5]"
   ]
  },
  {
   "cell_type": "markdown",
   "id": "vulnerable-lithuania",
   "metadata": {},
   "source": [
    "Date starts from 1st Jan 1970 and ends on 24th Aug 2019"
   ]
  },
  {
   "cell_type": "markdown",
   "id": "rotary-medicine",
   "metadata": {},
   "source": [
    "---\n",
    "\n",
    "# Data preprocessing"
   ]
  },
  {
   "cell_type": "code",
   "execution_count": 14,
   "id": "stupid-underground",
   "metadata": {},
   "outputs": [
    {
     "data": {
      "text/html": [
       "<div>\n",
       "<style scoped>\n",
       "    .dataframe tbody tr th:only-of-type {\n",
       "        vertical-align: middle;\n",
       "    }\n",
       "\n",
       "    .dataframe tbody tr th {\n",
       "        vertical-align: top;\n",
       "    }\n",
       "\n",
       "    .dataframe thead th {\n",
       "        text-align: right;\n",
       "    }\n",
       "</style>\n",
       "<table border=\"1\" class=\"dataframe\">\n",
       "  <thead>\n",
       "    <tr style=\"text-align: right;\">\n",
       "      <th></th>\n",
       "      <th>date</th>\n",
       "      <th>numeric0</th>\n",
       "      <th>numeric1</th>\n",
       "      <th>categorical0</th>\n",
       "      <th>time</th>\n",
       "      <th>target</th>\n",
       "    </tr>\n",
       "  </thead>\n",
       "  <tbody>\n",
       "    <tr>\n",
       "      <th>0</th>\n",
       "      <td>2015-11-24</td>\n",
       "      <td>2515</td>\n",
       "      <td>2.0</td>\n",
       "      <td>c</td>\n",
       "      <td>01:33:52</td>\n",
       "      <td>0</td>\n",
       "    </tr>\n",
       "    <tr>\n",
       "      <th>1</th>\n",
       "      <td>2009-03-05</td>\n",
       "      <td>5156</td>\n",
       "      <td>NaN</td>\n",
       "      <td>b</td>\n",
       "      <td>20:09:27</td>\n",
       "      <td>0</td>\n",
       "    </tr>\n",
       "    <tr>\n",
       "      <th>2</th>\n",
       "      <td>2015-12-23</td>\n",
       "      <td>5930</td>\n",
       "      <td>NaN</td>\n",
       "      <td>b</td>\n",
       "      <td>11:22:35</td>\n",
       "      <td>0</td>\n",
       "    </tr>\n",
       "    <tr>\n",
       "      <th>3</th>\n",
       "      <td>1992-02-16</td>\n",
       "      <td>2967</td>\n",
       "      <td>NaN</td>\n",
       "      <td>b</td>\n",
       "      <td>19:18:36</td>\n",
       "      <td>0</td>\n",
       "    </tr>\n",
       "    <tr>\n",
       "      <th>4</th>\n",
       "      <td>1971-06-06</td>\n",
       "      <td>194</td>\n",
       "      <td>5.0</td>\n",
       "      <td>c</td>\n",
       "      <td>20:01:58</td>\n",
       "      <td>0</td>\n",
       "    </tr>\n",
       "    <tr>\n",
       "      <th>5</th>\n",
       "      <td>2007-07-16</td>\n",
       "      <td>7792</td>\n",
       "      <td>9.0</td>\n",
       "      <td>b</td>\n",
       "      <td>01:01:44</td>\n",
       "      <td>0</td>\n",
       "    </tr>\n",
       "    <tr>\n",
       "      <th>6</th>\n",
       "      <td>2011-12-26</td>\n",
       "      <td>3399</td>\n",
       "      <td>NaN</td>\n",
       "      <td>b</td>\n",
       "      <td>06:17:32</td>\n",
       "      <td>0</td>\n",
       "    </tr>\n",
       "    <tr>\n",
       "      <th>7</th>\n",
       "      <td>1983-06-07</td>\n",
       "      <td>1139</td>\n",
       "      <td>NaN</td>\n",
       "      <td>c</td>\n",
       "      <td>16:12:01</td>\n",
       "      <td>0</td>\n",
       "    </tr>\n",
       "    <tr>\n",
       "      <th>8</th>\n",
       "      <td>2017-06-03</td>\n",
       "      <td>3069</td>\n",
       "      <td>NaN</td>\n",
       "      <td>b</td>\n",
       "      <td>01:10:32</td>\n",
       "      <td>0</td>\n",
       "    </tr>\n",
       "    <tr>\n",
       "      <th>9</th>\n",
       "      <td>2016-05-30</td>\n",
       "      <td>1002</td>\n",
       "      <td>7.0</td>\n",
       "      <td>b</td>\n",
       "      <td>01:30:26</td>\n",
       "      <td>0</td>\n",
       "    </tr>\n",
       "  </tbody>\n",
       "</table>\n",
       "</div>"
      ],
      "text/plain": [
       "         date  numeric0  numeric1 categorical0      time  target\n",
       "0  2015-11-24      2515       2.0            c  01:33:52       0\n",
       "1  2009-03-05      5156       NaN            b  20:09:27       0\n",
       "2  2015-12-23      5930       NaN            b  11:22:35       0\n",
       "3  1992-02-16      2967       NaN            b  19:18:36       0\n",
       "4  1971-06-06       194       5.0            c  20:01:58       0\n",
       "5  2007-07-16      7792       9.0            b  01:01:44       0\n",
       "6  2011-12-26      3399       NaN            b  06:17:32       0\n",
       "7  1983-06-07      1139       NaN            c  16:12:01       0\n",
       "8  2017-06-03      3069       NaN            b  01:10:32       0\n",
       "9  2016-05-30      1002       7.0            b  01:30:26       0"
      ]
     },
     "execution_count": 14,
     "metadata": {},
     "output_type": "execute_result"
    },
    {
     "data": {
      "application/javascript": [
       "\n",
       "            setTimeout(function() {\n",
       "                var nbb_cell_id = 14;\n",
       "                var nbb_unformatted_code = \"data_df.head(10)\";\n",
       "                var nbb_formatted_code = \"data_df.head(10)\";\n",
       "                var nbb_cells = Jupyter.notebook.get_cells();\n",
       "                for (var i = 0; i < nbb_cells.length; ++i) {\n",
       "                    if (nbb_cells[i].input_prompt_number == nbb_cell_id) {\n",
       "                        if (nbb_cells[i].get_text() == nbb_unformatted_code) {\n",
       "                             nbb_cells[i].set_text(nbb_formatted_code);\n",
       "                        }\n",
       "                        break;\n",
       "                    }\n",
       "                }\n",
       "            }, 500);\n",
       "            "
      ],
      "text/plain": [
       "<IPython.core.display.Javascript object>"
      ]
     },
     "metadata": {},
     "output_type": "display_data"
    }
   ],
   "source": [
    "data_df.head(10)"
   ]
  },
  {
   "cell_type": "markdown",
   "id": "sublime-amount",
   "metadata": {},
   "source": [
    "--- \n",
    "\n",
    "First, let's deal with tme and data features. We have a few options:\n",
    "- Slipt values to months, days, and hours\n",
    "- Additionally, encode this cyclical data (for ex, for deep learning)\n",
    "\n",
    "A common method for encoding cyclical data is to transform the data into two dimensions using a sine and consine transformation.\n",
    "\n",
    "Example of the problem with presenting cyclical data to a machine learning algorithm: there are discontinuities in the graph at the end of each day, when the hour value goes from  `23`  to  `00`."
   ]
  },
  {
   "cell_type": "code",
   "execution_count": 16,
   "id": "ff759caf",
   "metadata": {},
   "outputs": [
    {
     "data": {
      "application/javascript": [
       "\n",
       "            setTimeout(function() {\n",
       "                var nbb_cell_id = 16;\n",
       "                var nbb_unformatted_code = \"data_df_modified = data_df.copy()\";\n",
       "                var nbb_formatted_code = \"data_df_modified = data_df.copy()\";\n",
       "                var nbb_cells = Jupyter.notebook.get_cells();\n",
       "                for (var i = 0; i < nbb_cells.length; ++i) {\n",
       "                    if (nbb_cells[i].input_prompt_number == nbb_cell_id) {\n",
       "                        if (nbb_cells[i].get_text() == nbb_unformatted_code) {\n",
       "                             nbb_cells[i].set_text(nbb_formatted_code);\n",
       "                        }\n",
       "                        break;\n",
       "                    }\n",
       "                }\n",
       "            }, 500);\n",
       "            "
      ],
      "text/plain": [
       "<IPython.core.display.Javascript object>"
      ]
     },
     "metadata": {},
     "output_type": "display_data"
    }
   ],
   "source": [
    "data_df_modified = data_df.copy()"
   ]
  },
  {
   "cell_type": "code",
   "execution_count": 17,
   "id": "strategic-green",
   "metadata": {},
   "outputs": [
    {
     "data": {
      "text/html": [
       "<div>\n",
       "<style scoped>\n",
       "    .dataframe tbody tr th:only-of-type {\n",
       "        vertical-align: middle;\n",
       "    }\n",
       "\n",
       "    .dataframe tbody tr th {\n",
       "        vertical-align: top;\n",
       "    }\n",
       "\n",
       "    .dataframe thead th {\n",
       "        text-align: right;\n",
       "    }\n",
       "</style>\n",
       "<table border=\"1\" class=\"dataframe\">\n",
       "  <thead>\n",
       "    <tr style=\"text-align: right;\">\n",
       "      <th></th>\n",
       "      <th>numeric0</th>\n",
       "      <th>numeric1</th>\n",
       "      <th>categorical0</th>\n",
       "      <th>target</th>\n",
       "      <th>month</th>\n",
       "      <th>month_sin</th>\n",
       "      <th>month_cos</th>\n",
       "      <th>day</th>\n",
       "      <th>day_sin</th>\n",
       "      <th>day_cos</th>\n",
       "      <th>hour</th>\n",
       "      <th>hour_sin</th>\n",
       "      <th>hour_cos</th>\n",
       "    </tr>\n",
       "  </thead>\n",
       "  <tbody>\n",
       "    <tr>\n",
       "      <th>0</th>\n",
       "      <td>2515</td>\n",
       "      <td>2.0</td>\n",
       "      <td>c</td>\n",
       "      <td>0</td>\n",
       "      <td>11</td>\n",
       "      <td>-5.000000e-01</td>\n",
       "      <td>8.660254e-01</td>\n",
       "      <td>24</td>\n",
       "      <td>0.401488</td>\n",
       "      <td>0.915864</td>\n",
       "      <td>1</td>\n",
       "      <td>0.269797</td>\n",
       "      <td>0.962917</td>\n",
       "    </tr>\n",
       "    <tr>\n",
       "      <th>1</th>\n",
       "      <td>5156</td>\n",
       "      <td>NaN</td>\n",
       "      <td>b</td>\n",
       "      <td>0</td>\n",
       "      <td>3</td>\n",
       "      <td>1.000000e+00</td>\n",
       "      <td>6.123234e-17</td>\n",
       "      <td>5</td>\n",
       "      <td>0.085965</td>\n",
       "      <td>0.996298</td>\n",
       "      <td>20</td>\n",
       "      <td>-0.730836</td>\n",
       "      <td>0.682553</td>\n",
       "    </tr>\n",
       "    <tr>\n",
       "      <th>2</th>\n",
       "      <td>5930</td>\n",
       "      <td>NaN</td>\n",
       "      <td>b</td>\n",
       "      <td>0</td>\n",
       "      <td>12</td>\n",
       "      <td>-2.449294e-16</td>\n",
       "      <td>1.000000e+00</td>\n",
       "      <td>23</td>\n",
       "      <td>0.385663</td>\n",
       "      <td>0.922640</td>\n",
       "      <td>11</td>\n",
       "      <td>0.136167</td>\n",
       "      <td>-0.990686</td>\n",
       "    </tr>\n",
       "    <tr>\n",
       "      <th>3</th>\n",
       "      <td>2967</td>\n",
       "      <td>NaN</td>\n",
       "      <td>b</td>\n",
       "      <td>0</td>\n",
       "      <td>2</td>\n",
       "      <td>8.660254e-01</td>\n",
       "      <td>5.000000e-01</td>\n",
       "      <td>16</td>\n",
       "      <td>0.271958</td>\n",
       "      <td>0.962309</td>\n",
       "      <td>19</td>\n",
       "      <td>-0.887885</td>\n",
       "      <td>0.460065</td>\n",
       "    </tr>\n",
       "    <tr>\n",
       "      <th>4</th>\n",
       "      <td>194</td>\n",
       "      <td>5.0</td>\n",
       "      <td>c</td>\n",
       "      <td>0</td>\n",
       "      <td>6</td>\n",
       "      <td>1.224647e-16</td>\n",
       "      <td>-1.000000e+00</td>\n",
       "      <td>6</td>\n",
       "      <td>0.103102</td>\n",
       "      <td>0.994671</td>\n",
       "      <td>20</td>\n",
       "      <td>-0.730836</td>\n",
       "      <td>0.682553</td>\n",
       "    </tr>\n",
       "  </tbody>\n",
       "</table>\n",
       "</div>"
      ],
      "text/plain": [
       "   numeric0  numeric1 categorical0  target  month     month_sin     month_cos  \\\n",
       "0      2515       2.0            c       0     11 -5.000000e-01  8.660254e-01   \n",
       "1      5156       NaN            b       0      3  1.000000e+00  6.123234e-17   \n",
       "2      5930       NaN            b       0     12 -2.449294e-16  1.000000e+00   \n",
       "3      2967       NaN            b       0      2  8.660254e-01  5.000000e-01   \n",
       "4       194       5.0            c       0      6  1.224647e-16 -1.000000e+00   \n",
       "\n",
       "   day   day_sin   day_cos  hour  hour_sin  hour_cos  \n",
       "0   24  0.401488  0.915864     1  0.269797  0.962917  \n",
       "1    5  0.085965  0.996298    20 -0.730836  0.682553  \n",
       "2   23  0.385663  0.922640    11  0.136167 -0.990686  \n",
       "3   16  0.271958  0.962309    19 -0.887885  0.460065  \n",
       "4    6  0.103102  0.994671    20 -0.730836  0.682553  "
      ]
     },
     "execution_count": 17,
     "metadata": {},
     "output_type": "execute_result"
    },
    {
     "data": {
      "application/javascript": [
       "\n",
       "            setTimeout(function() {\n",
       "                var nbb_cell_id = 17;\n",
       "                var nbb_unformatted_code = \"# Let's encode\\ndef encode(data_df: pd.DataFrame, column: str, max_val: int) -> pd.DataFrame:\\n    data_df[f\\\"{column}_sin\\\"] = np.sin(2 * np.pi * data_df[column] / max_val)\\n    data_df[f\\\"{column}_cos\\\"] = np.cos(2 * np.pi * data_df[column] / max_val)\\n    return data_df\\n\\n\\n# Combine date and time so we have one `datetime` column\\ndata_df_modified[\\\"datetime\\\"] = pd.to_datetime(\\n    data_df_modified[[\\\"date\\\", \\\"time\\\"]].agg(\\\" \\\".join, axis=1)\\n)\\n\\n# Encode\\ncols_to_create = [(\\\"month\\\", 12), (\\\"day\\\", 365), (\\\"hour\\\", 23)]\\nfor column, max_val in cols_to_create:\\n    data_df_modified[column] = eval(f\\\"data_df_modified.datetime.dt.{column}\\\")\\n    data_df_modified = encode(data_df=data_df_modified, column=column, max_val=max_val)\\n\\ndata_df_modified.drop(columns=[\\\"date\\\", \\\"time\\\", \\\"datetime\\\"], inplace=True)\\ndata_df_modified.head()\";\n",
       "                var nbb_formatted_code = \"# Let's encode\\ndef encode(data_df: pd.DataFrame, column: str, max_val: int) -> pd.DataFrame:\\n    data_df[f\\\"{column}_sin\\\"] = np.sin(2 * np.pi * data_df[column] / max_val)\\n    data_df[f\\\"{column}_cos\\\"] = np.cos(2 * np.pi * data_df[column] / max_val)\\n    return data_df\\n\\n\\n# Combine date and time so we have one `datetime` column\\ndata_df_modified[\\\"datetime\\\"] = pd.to_datetime(\\n    data_df_modified[[\\\"date\\\", \\\"time\\\"]].agg(\\\" \\\".join, axis=1)\\n)\\n\\n# Encode\\ncols_to_create = [(\\\"month\\\", 12), (\\\"day\\\", 365), (\\\"hour\\\", 23)]\\nfor column, max_val in cols_to_create:\\n    data_df_modified[column] = eval(f\\\"data_df_modified.datetime.dt.{column}\\\")\\n    data_df_modified = encode(data_df=data_df_modified, column=column, max_val=max_val)\\n\\ndata_df_modified.drop(columns=[\\\"date\\\", \\\"time\\\", \\\"datetime\\\"], inplace=True)\\ndata_df_modified.head()\";\n",
       "                var nbb_cells = Jupyter.notebook.get_cells();\n",
       "                for (var i = 0; i < nbb_cells.length; ++i) {\n",
       "                    if (nbb_cells[i].input_prompt_number == nbb_cell_id) {\n",
       "                        if (nbb_cells[i].get_text() == nbb_unformatted_code) {\n",
       "                             nbb_cells[i].set_text(nbb_formatted_code);\n",
       "                        }\n",
       "                        break;\n",
       "                    }\n",
       "                }\n",
       "            }, 500);\n",
       "            "
      ],
      "text/plain": [
       "<IPython.core.display.Javascript object>"
      ]
     },
     "metadata": {},
     "output_type": "display_data"
    }
   ],
   "source": [
    "# Let's encode\n",
    "def encode(data_df: pd.DataFrame, column: str, max_val: int) -> pd.DataFrame:\n",
    "    data_df[f\"{column}_sin\"] = np.sin(2 * np.pi * data_df[column] / max_val)\n",
    "    data_df[f\"{column}_cos\"] = np.cos(2 * np.pi * data_df[column] / max_val)\n",
    "    return data_df\n",
    "\n",
    "\n",
    "# Combine date and time so we have one `datetime` column\n",
    "data_df_modified[\"datetime\"] = pd.to_datetime(\n",
    "    data_df_modified[[\"date\", \"time\"]].agg(\" \".join, axis=1)\n",
    ")\n",
    "\n",
    "# Encode\n",
    "cols_to_create = [(\"month\", 12), (\"day\", 365), (\"hour\", 23)]\n",
    "for column, max_val in cols_to_create:\n",
    "    data_df_modified[column] = eval(f\"data_df_modified.datetime.dt.{column}\")\n",
    "    data_df_modified = encode(data_df=data_df_modified, column=column, max_val=max_val)\n",
    "\n",
    "data_df_modified.drop(columns=[\"date\", \"time\", \"datetime\"], inplace=True)\n",
    "data_df_modified.head()"
   ]
  },
  {
   "cell_type": "code",
   "execution_count": 18,
   "id": "incorrect-tennessee",
   "metadata": {},
   "outputs": [
    {
     "data": {
      "text/html": [
       "<div>\n",
       "<style scoped>\n",
       "    .dataframe tbody tr th:only-of-type {\n",
       "        vertical-align: middle;\n",
       "    }\n",
       "\n",
       "    .dataframe tbody tr th {\n",
       "        vertical-align: top;\n",
       "    }\n",
       "\n",
       "    .dataframe thead th {\n",
       "        text-align: right;\n",
       "    }\n",
       "</style>\n",
       "<table border=\"1\" class=\"dataframe\">\n",
       "  <thead>\n",
       "    <tr style=\"text-align: right;\">\n",
       "      <th></th>\n",
       "      <th>numeric0</th>\n",
       "      <th>numeric1</th>\n",
       "      <th>categorical0</th>\n",
       "      <th>target</th>\n",
       "      <th>month</th>\n",
       "      <th>month_sin</th>\n",
       "      <th>month_cos</th>\n",
       "      <th>day</th>\n",
       "      <th>day_sin</th>\n",
       "      <th>day_cos</th>\n",
       "      <th>hour</th>\n",
       "      <th>hour_sin</th>\n",
       "      <th>hour_cos</th>\n",
       "    </tr>\n",
       "  </thead>\n",
       "  <tbody>\n",
       "    <tr>\n",
       "      <th>0</th>\n",
       "      <td>2515</td>\n",
       "      <td>2.0</td>\n",
       "      <td>3</td>\n",
       "      <td>0</td>\n",
       "      <td>11</td>\n",
       "      <td>-5.000000e-01</td>\n",
       "      <td>8.660254e-01</td>\n",
       "      <td>24</td>\n",
       "      <td>0.401488</td>\n",
       "      <td>0.915864</td>\n",
       "      <td>1</td>\n",
       "      <td>0.269797</td>\n",
       "      <td>0.962917</td>\n",
       "    </tr>\n",
       "    <tr>\n",
       "      <th>1</th>\n",
       "      <td>5156</td>\n",
       "      <td>NaN</td>\n",
       "      <td>2</td>\n",
       "      <td>0</td>\n",
       "      <td>3</td>\n",
       "      <td>1.000000e+00</td>\n",
       "      <td>6.123234e-17</td>\n",
       "      <td>5</td>\n",
       "      <td>0.085965</td>\n",
       "      <td>0.996298</td>\n",
       "      <td>20</td>\n",
       "      <td>-0.730836</td>\n",
       "      <td>0.682553</td>\n",
       "    </tr>\n",
       "    <tr>\n",
       "      <th>2</th>\n",
       "      <td>5930</td>\n",
       "      <td>NaN</td>\n",
       "      <td>2</td>\n",
       "      <td>0</td>\n",
       "      <td>12</td>\n",
       "      <td>-2.449294e-16</td>\n",
       "      <td>1.000000e+00</td>\n",
       "      <td>23</td>\n",
       "      <td>0.385663</td>\n",
       "      <td>0.922640</td>\n",
       "      <td>11</td>\n",
       "      <td>0.136167</td>\n",
       "      <td>-0.990686</td>\n",
       "    </tr>\n",
       "    <tr>\n",
       "      <th>3</th>\n",
       "      <td>2967</td>\n",
       "      <td>NaN</td>\n",
       "      <td>2</td>\n",
       "      <td>0</td>\n",
       "      <td>2</td>\n",
       "      <td>8.660254e-01</td>\n",
       "      <td>5.000000e-01</td>\n",
       "      <td>16</td>\n",
       "      <td>0.271958</td>\n",
       "      <td>0.962309</td>\n",
       "      <td>19</td>\n",
       "      <td>-0.887885</td>\n",
       "      <td>0.460065</td>\n",
       "    </tr>\n",
       "    <tr>\n",
       "      <th>4</th>\n",
       "      <td>194</td>\n",
       "      <td>5.0</td>\n",
       "      <td>3</td>\n",
       "      <td>0</td>\n",
       "      <td>6</td>\n",
       "      <td>1.224647e-16</td>\n",
       "      <td>-1.000000e+00</td>\n",
       "      <td>6</td>\n",
       "      <td>0.103102</td>\n",
       "      <td>0.994671</td>\n",
       "      <td>20</td>\n",
       "      <td>-0.730836</td>\n",
       "      <td>0.682553</td>\n",
       "    </tr>\n",
       "  </tbody>\n",
       "</table>\n",
       "</div>"
      ],
      "text/plain": [
       "   numeric0  numeric1  categorical0  target  month     month_sin  \\\n",
       "0      2515       2.0             3       0     11 -5.000000e-01   \n",
       "1      5156       NaN             2       0      3  1.000000e+00   \n",
       "2      5930       NaN             2       0     12 -2.449294e-16   \n",
       "3      2967       NaN             2       0      2  8.660254e-01   \n",
       "4       194       5.0             3       0      6  1.224647e-16   \n",
       "\n",
       "      month_cos  day   day_sin   day_cos  hour  hour_sin  hour_cos  \n",
       "0  8.660254e-01   24  0.401488  0.915864     1  0.269797  0.962917  \n",
       "1  6.123234e-17    5  0.085965  0.996298    20 -0.730836  0.682553  \n",
       "2  1.000000e+00   23  0.385663  0.922640    11  0.136167 -0.990686  \n",
       "3  5.000000e-01   16  0.271958  0.962309    19 -0.887885  0.460065  \n",
       "4 -1.000000e+00    6  0.103102  0.994671    20 -0.730836  0.682553  "
      ]
     },
     "execution_count": 18,
     "metadata": {},
     "output_type": "execute_result"
    },
    {
     "data": {
      "application/javascript": [
       "\n",
       "            setTimeout(function() {\n",
       "                var nbb_cell_id = 18;\n",
       "                var nbb_unformatted_code = \"# Label categorical\\nmapper = {\\\"a\\\": 1, \\\"b\\\": 2, \\\"c\\\": 3}\\n\\ndata_df_modified.categorical0 = data_df_modified.categorical0.map(mapper)\\ndata_df_modified.head()\";\n",
       "                var nbb_formatted_code = \"# Label categorical\\nmapper = {\\\"a\\\": 1, \\\"b\\\": 2, \\\"c\\\": 3}\\n\\ndata_df_modified.categorical0 = data_df_modified.categorical0.map(mapper)\\ndata_df_modified.head()\";\n",
       "                var nbb_cells = Jupyter.notebook.get_cells();\n",
       "                for (var i = 0; i < nbb_cells.length; ++i) {\n",
       "                    if (nbb_cells[i].input_prompt_number == nbb_cell_id) {\n",
       "                        if (nbb_cells[i].get_text() == nbb_unformatted_code) {\n",
       "                             nbb_cells[i].set_text(nbb_formatted_code);\n",
       "                        }\n",
       "                        break;\n",
       "                    }\n",
       "                }\n",
       "            }, 500);\n",
       "            "
      ],
      "text/plain": [
       "<IPython.core.display.Javascript object>"
      ]
     },
     "metadata": {},
     "output_type": "display_data"
    }
   ],
   "source": [
    "# Label categorical\n",
    "mapper = {\"a\": 1, \"b\": 2, \"c\": 3}\n",
    "\n",
    "data_df_modified.categorical0 = data_df_modified.categorical0.map(mapper)\n",
    "data_df_modified.head()"
   ]
  },
  {
   "cell_type": "markdown",
   "id": "4d79a00a",
   "metadata": {},
   "source": [
    "--- \n",
    "\n",
    "Next, let's impute missing data.\n",
    "\n",
    "NOTE: To impute missing data different methods can be used. For example, impute based on correlations with other features or use algorithms like KNN or mean/median imputation.\n",
    "\n",
    "Though I'm aware that random imputation for `numeric1` is not ideal as it introduces noise and may distort relationships between features, for the simplicity here I will use simple random assignment since we only have 10 unique values evenly spread across the dataset.\n"
   ]
  },
  {
   "cell_type": "code",
   "execution_count": 19,
   "id": "bcdb306c",
   "metadata": {},
   "outputs": [
    {
     "data": {
      "text/html": [
       "<div>\n",
       "<style scoped>\n",
       "    .dataframe tbody tr th:only-of-type {\n",
       "        vertical-align: middle;\n",
       "    }\n",
       "\n",
       "    .dataframe tbody tr th {\n",
       "        vertical-align: top;\n",
       "    }\n",
       "\n",
       "    .dataframe thead th {\n",
       "        text-align: right;\n",
       "    }\n",
       "</style>\n",
       "<table border=\"1\" class=\"dataframe\">\n",
       "  <thead>\n",
       "    <tr style=\"text-align: right;\">\n",
       "      <th></th>\n",
       "      <th>numeric0</th>\n",
       "      <th>numeric1</th>\n",
       "      <th>categorical0</th>\n",
       "      <th>target</th>\n",
       "      <th>month</th>\n",
       "      <th>month_sin</th>\n",
       "      <th>month_cos</th>\n",
       "      <th>day</th>\n",
       "      <th>day_sin</th>\n",
       "      <th>day_cos</th>\n",
       "      <th>hour</th>\n",
       "      <th>hour_sin</th>\n",
       "      <th>hour_cos</th>\n",
       "    </tr>\n",
       "  </thead>\n",
       "  <tbody>\n",
       "    <tr>\n",
       "      <th>0</th>\n",
       "      <td>2515</td>\n",
       "      <td>2.0</td>\n",
       "      <td>3</td>\n",
       "      <td>0</td>\n",
       "      <td>11</td>\n",
       "      <td>-5.000000e-01</td>\n",
       "      <td>8.660254e-01</td>\n",
       "      <td>24</td>\n",
       "      <td>0.401488</td>\n",
       "      <td>0.915864</td>\n",
       "      <td>1</td>\n",
       "      <td>0.269797</td>\n",
       "      <td>0.962917</td>\n",
       "    </tr>\n",
       "    <tr>\n",
       "      <th>1</th>\n",
       "      <td>5156</td>\n",
       "      <td>1.0</td>\n",
       "      <td>2</td>\n",
       "      <td>0</td>\n",
       "      <td>3</td>\n",
       "      <td>1.000000e+00</td>\n",
       "      <td>6.123234e-17</td>\n",
       "      <td>5</td>\n",
       "      <td>0.085965</td>\n",
       "      <td>0.996298</td>\n",
       "      <td>20</td>\n",
       "      <td>-0.730836</td>\n",
       "      <td>0.682553</td>\n",
       "    </tr>\n",
       "    <tr>\n",
       "      <th>2</th>\n",
       "      <td>5930</td>\n",
       "      <td>7.0</td>\n",
       "      <td>2</td>\n",
       "      <td>0</td>\n",
       "      <td>12</td>\n",
       "      <td>-2.449294e-16</td>\n",
       "      <td>1.000000e+00</td>\n",
       "      <td>23</td>\n",
       "      <td>0.385663</td>\n",
       "      <td>0.922640</td>\n",
       "      <td>11</td>\n",
       "      <td>0.136167</td>\n",
       "      <td>-0.990686</td>\n",
       "    </tr>\n",
       "    <tr>\n",
       "      <th>3</th>\n",
       "      <td>2967</td>\n",
       "      <td>2.0</td>\n",
       "      <td>2</td>\n",
       "      <td>0</td>\n",
       "      <td>2</td>\n",
       "      <td>8.660254e-01</td>\n",
       "      <td>5.000000e-01</td>\n",
       "      <td>16</td>\n",
       "      <td>0.271958</td>\n",
       "      <td>0.962309</td>\n",
       "      <td>19</td>\n",
       "      <td>-0.887885</td>\n",
       "      <td>0.460065</td>\n",
       "    </tr>\n",
       "    <tr>\n",
       "      <th>4</th>\n",
       "      <td>194</td>\n",
       "      <td>5.0</td>\n",
       "      <td>3</td>\n",
       "      <td>0</td>\n",
       "      <td>6</td>\n",
       "      <td>1.224647e-16</td>\n",
       "      <td>-1.000000e+00</td>\n",
       "      <td>6</td>\n",
       "      <td>0.103102</td>\n",
       "      <td>0.994671</td>\n",
       "      <td>20</td>\n",
       "      <td>-0.730836</td>\n",
       "      <td>0.682553</td>\n",
       "    </tr>\n",
       "    <tr>\n",
       "      <th>5</th>\n",
       "      <td>7792</td>\n",
       "      <td>9.0</td>\n",
       "      <td>2</td>\n",
       "      <td>0</td>\n",
       "      <td>7</td>\n",
       "      <td>-5.000000e-01</td>\n",
       "      <td>-8.660254e-01</td>\n",
       "      <td>16</td>\n",
       "      <td>0.271958</td>\n",
       "      <td>0.962309</td>\n",
       "      <td>1</td>\n",
       "      <td>0.269797</td>\n",
       "      <td>0.962917</td>\n",
       "    </tr>\n",
       "    <tr>\n",
       "      <th>6</th>\n",
       "      <td>3399</td>\n",
       "      <td>5.0</td>\n",
       "      <td>2</td>\n",
       "      <td>0</td>\n",
       "      <td>12</td>\n",
       "      <td>-2.449294e-16</td>\n",
       "      <td>1.000000e+00</td>\n",
       "      <td>26</td>\n",
       "      <td>0.432776</td>\n",
       "      <td>0.901502</td>\n",
       "      <td>6</td>\n",
       "      <td>0.997669</td>\n",
       "      <td>-0.068242</td>\n",
       "    </tr>\n",
       "    <tr>\n",
       "      <th>7</th>\n",
       "      <td>1139</td>\n",
       "      <td>0.0</td>\n",
       "      <td>3</td>\n",
       "      <td>0</td>\n",
       "      <td>6</td>\n",
       "      <td>1.224647e-16</td>\n",
       "      <td>-1.000000e+00</td>\n",
       "      <td>7</td>\n",
       "      <td>0.120208</td>\n",
       "      <td>0.992749</td>\n",
       "      <td>16</td>\n",
       "      <td>-0.942261</td>\n",
       "      <td>-0.334880</td>\n",
       "    </tr>\n",
       "    <tr>\n",
       "      <th>8</th>\n",
       "      <td>3069</td>\n",
       "      <td>8.0</td>\n",
       "      <td>2</td>\n",
       "      <td>0</td>\n",
       "      <td>6</td>\n",
       "      <td>1.224647e-16</td>\n",
       "      <td>-1.000000e+00</td>\n",
       "      <td>3</td>\n",
       "      <td>0.051620</td>\n",
       "      <td>0.998667</td>\n",
       "      <td>1</td>\n",
       "      <td>0.269797</td>\n",
       "      <td>0.962917</td>\n",
       "    </tr>\n",
       "    <tr>\n",
       "      <th>9</th>\n",
       "      <td>1002</td>\n",
       "      <td>7.0</td>\n",
       "      <td>2</td>\n",
       "      <td>0</td>\n",
       "      <td>5</td>\n",
       "      <td>5.000000e-01</td>\n",
       "      <td>-8.660254e-01</td>\n",
       "      <td>30</td>\n",
       "      <td>0.493776</td>\n",
       "      <td>0.869589</td>\n",
       "      <td>1</td>\n",
       "      <td>0.269797</td>\n",
       "      <td>0.962917</td>\n",
       "    </tr>\n",
       "  </tbody>\n",
       "</table>\n",
       "</div>"
      ],
      "text/plain": [
       "   numeric0  numeric1  categorical0  target  month     month_sin  \\\n",
       "0      2515       2.0             3       0     11 -5.000000e-01   \n",
       "1      5156       1.0             2       0      3  1.000000e+00   \n",
       "2      5930       7.0             2       0     12 -2.449294e-16   \n",
       "3      2967       2.0             2       0      2  8.660254e-01   \n",
       "4       194       5.0             3       0      6  1.224647e-16   \n",
       "5      7792       9.0             2       0      7 -5.000000e-01   \n",
       "6      3399       5.0             2       0     12 -2.449294e-16   \n",
       "7      1139       0.0             3       0      6  1.224647e-16   \n",
       "8      3069       8.0             2       0      6  1.224647e-16   \n",
       "9      1002       7.0             2       0      5  5.000000e-01   \n",
       "\n",
       "      month_cos  day   day_sin   day_cos  hour  hour_sin  hour_cos  \n",
       "0  8.660254e-01   24  0.401488  0.915864     1  0.269797  0.962917  \n",
       "1  6.123234e-17    5  0.085965  0.996298    20 -0.730836  0.682553  \n",
       "2  1.000000e+00   23  0.385663  0.922640    11  0.136167 -0.990686  \n",
       "3  5.000000e-01   16  0.271958  0.962309    19 -0.887885  0.460065  \n",
       "4 -1.000000e+00    6  0.103102  0.994671    20 -0.730836  0.682553  \n",
       "5 -8.660254e-01   16  0.271958  0.962309     1  0.269797  0.962917  \n",
       "6  1.000000e+00   26  0.432776  0.901502     6  0.997669 -0.068242  \n",
       "7 -1.000000e+00    7  0.120208  0.992749    16 -0.942261 -0.334880  \n",
       "8 -1.000000e+00    3  0.051620  0.998667     1  0.269797  0.962917  \n",
       "9 -8.660254e-01   30  0.493776  0.869589     1  0.269797  0.962917  "
      ]
     },
     "execution_count": 19,
     "metadata": {},
     "output_type": "execute_result"
    },
    {
     "data": {
      "application/javascript": [
       "\n",
       "            setTimeout(function() {\n",
       "                var nbb_cell_id = 19;\n",
       "                var nbb_unformatted_code = \"# Impute missing data\\nnp.random.seed(12)  # seed for reproducibility\\n\\nnon_missing_values = data_df_modified[\\\"numeric1\\\"].dropna()\\nmin_val, max_val = non_missing_values.min(), non_missing_values.max()\\ndata_df_modified[\\\"numeric1\\\"] = data_df_modified[\\\"numeric1\\\"].apply(\\n    lambda x: x if not pd.isna(x) else np.random.uniform(low=min_val, high=max_val)\\n).round()\\n\\ndata_df_modified.head(10)\";\n",
       "                var nbb_formatted_code = \"# Impute missing data\\nnp.random.seed(12)  # seed for reproducibility\\n\\nnon_missing_values = data_df_modified[\\\"numeric1\\\"].dropna()\\nmin_val, max_val = non_missing_values.min(), non_missing_values.max()\\ndata_df_modified[\\\"numeric1\\\"] = (\\n    data_df_modified[\\\"numeric1\\\"]\\n    .apply(\\n        lambda x: x if not pd.isna(x) else np.random.uniform(low=min_val, high=max_val)\\n    )\\n    .round()\\n)\\n\\ndata_df_modified.head(10)\";\n",
       "                var nbb_cells = Jupyter.notebook.get_cells();\n",
       "                for (var i = 0; i < nbb_cells.length; ++i) {\n",
       "                    if (nbb_cells[i].input_prompt_number == nbb_cell_id) {\n",
       "                        if (nbb_cells[i].get_text() == nbb_unformatted_code) {\n",
       "                             nbb_cells[i].set_text(nbb_formatted_code);\n",
       "                        }\n",
       "                        break;\n",
       "                    }\n",
       "                }\n",
       "            }, 500);\n",
       "            "
      ],
      "text/plain": [
       "<IPython.core.display.Javascript object>"
      ]
     },
     "metadata": {},
     "output_type": "display_data"
    }
   ],
   "source": [
    "# Impute missing data\n",
    "np.random.seed(12)  # seed for reproducibility\n",
    "\n",
    "non_missing_values = data_df_modified[\"numeric1\"].dropna()\n",
    "min_val, max_val = non_missing_values.min(), non_missing_values.max()\n",
    "data_df_modified[\"numeric1\"] = data_df_modified[\"numeric1\"].apply(\n",
    "    lambda x: x if not pd.isna(x) else np.random.uniform(low=min_val, high=max_val)\n",
    ").round()\n",
    "\n",
    "data_df_modified.head(10)"
   ]
  },
  {
   "cell_type": "code",
   "execution_count": 20,
   "id": "a666d531",
   "metadata": {},
   "outputs": [
    {
     "data": {
      "text/plain": [
       "<Axes: ylabel='Frequency'>"
      ]
     },
     "execution_count": 20,
     "metadata": {},
     "output_type": "execute_result"
    },
    {
     "data": {
      "image/png": "[encoded data removed]",
      "text/plain": [
       "<Figure size 640x480 with 1 Axes>"
      ]
     },
     "metadata": {},
     "output_type": "display_data"
    },
    {
     "data": {
      "application/javascript": [
       "\n",
       "            setTimeout(function() {\n",
       "                var nbb_cell_id = 20;\n",
       "                var nbb_unformatted_code = \"# Check that the distribution hasn't changed\\ndata_df_modified.numeric1.plot.hist()\";\n",
       "                var nbb_formatted_code = \"# Check that the distribution hasn't changed\\ndata_df_modified.numeric1.plot.hist()\";\n",
       "                var nbb_cells = Jupyter.notebook.get_cells();\n",
       "                for (var i = 0; i < nbb_cells.length; ++i) {\n",
       "                    if (nbb_cells[i].input_prompt_number == nbb_cell_id) {\n",
       "                        if (nbb_cells[i].get_text() == nbb_unformatted_code) {\n",
       "                             nbb_cells[i].set_text(nbb_formatted_code);\n",
       "                        }\n",
       "                        break;\n",
       "                    }\n",
       "                }\n",
       "            }, 500);\n",
       "            "
      ],
      "text/plain": [
       "<IPython.core.display.Javascript object>"
      ]
     },
     "metadata": {},
     "output_type": "display_data"
    }
   ],
   "source": [
    "# Check that the distribution hasn't changed\n",
    "data_df_modified.numeric1.plot.hist()"
   ]
  },
  {
   "cell_type": "code",
   "execution_count": 21,
   "id": "treated-raise",
   "metadata": {},
   "outputs": [
    {
     "data": {
      "text/plain": [
       "numeric0          int64\n",
       "numeric1        float64\n",
       "categorical0      int64\n",
       "target            int64\n",
       "month             int32\n",
       "month_sin       float64\n",
       "month_cos       float64\n",
       "day               int32\n",
       "day_sin         float64\n",
       "day_cos         float64\n",
       "hour              int32\n",
       "hour_sin        float64\n",
       "hour_cos        float64\n",
       "dtype: object"
      ]
     },
     "execution_count": 21,
     "metadata": {},
     "output_type": "execute_result"
    },
    {
     "data": {
      "application/javascript": [
       "\n",
       "            setTimeout(function() {\n",
       "                var nbb_cell_id = 21;\n",
       "                var nbb_unformatted_code = \"data_df_modified.dtypes\";\n",
       "                var nbb_formatted_code = \"data_df_modified.dtypes\";\n",
       "                var nbb_cells = Jupyter.notebook.get_cells();\n",
       "                for (var i = 0; i < nbb_cells.length; ++i) {\n",
       "                    if (nbb_cells[i].input_prompt_number == nbb_cell_id) {\n",
       "                        if (nbb_cells[i].get_text() == nbb_unformatted_code) {\n",
       "                             nbb_cells[i].set_text(nbb_formatted_code);\n",
       "                        }\n",
       "                        break;\n",
       "                    }\n",
       "                }\n",
       "            }, 500);\n",
       "            "
      ],
      "text/plain": [
       "<IPython.core.display.Javascript object>"
      ]
     },
     "metadata": {},
     "output_type": "display_data"
    }
   ],
   "source": [
    "data_df_modified.dtypes"
   ]
  },
  {
   "cell_type": "markdown",
   "id": "agreed-permission",
   "metadata": {},
   "source": [
    "# Model training\n",
    "\n",
    "The data is highly imbalanced. If we predicted `0` every time, we would end up with accuracy of 86.7%.\n",
    "\n",
    "To increase predictive capacity of the model the following methods are commonly used:\n",
    "- Collecting more data to decrease imbalance\n",
    "- Using other metrics (not accuracy) to measure model performance, for example F1-score\n",
    "- Using less samples of the common class and/or more samples of the rare class for training\n",
    "- Changing threshold for predicting the class\n",
    "- Trying various algorithms\n",
    "- Using weights to increase the importance of the rare class\n",
    "- Generating artificial data\n",
    "\n",
    "Random Forest is a great model to use in case of imbalanced data."
   ]
  },
  {
   "cell_type": "code",
   "execution_count": 22,
   "id": "multiple-bachelor",
   "metadata": {},
   "outputs": [
    {
     "data": {
      "application/javascript": [
       "\n",
       "            setTimeout(function() {\n",
       "                var nbb_cell_id = 22;\n",
       "                var nbb_unformatted_code = \"X = data_df_modified.drop(labels=\\\"target\\\", axis=1)\\nX.drop(columns=[\\\"month\\\", \\\"day\\\", \\\"hour\\\"], inplace=True)\\n\\ny = data_df_modified.target.astype(int)\";\n",
       "                var nbb_formatted_code = \"X = data_df_modified.drop(labels=\\\"target\\\", axis=1)\\nX.drop(columns=[\\\"month\\\", \\\"day\\\", \\\"hour\\\"], inplace=True)\\n\\ny = data_df_modified.target.astype(int)\";\n",
       "                var nbb_cells = Jupyter.notebook.get_cells();\n",
       "                for (var i = 0; i < nbb_cells.length; ++i) {\n",
       "                    if (nbb_cells[i].input_prompt_number == nbb_cell_id) {\n",
       "                        if (nbb_cells[i].get_text() == nbb_unformatted_code) {\n",
       "                             nbb_cells[i].set_text(nbb_formatted_code);\n",
       "                        }\n",
       "                        break;\n",
       "                    }\n",
       "                }\n",
       "            }, 500);\n",
       "            "
      ],
      "text/plain": [
       "<IPython.core.display.Javascript object>"
      ]
     },
     "metadata": {},
     "output_type": "display_data"
    }
   ],
   "source": [
    "X = data_df_modified.drop(labels=\"target\", axis=1)\n",
    "X.drop(columns=[\"month\", \"day\", \"hour\"], inplace=True)\n",
    "\n",
    "y = data_df_modified.target.astype(int)"
   ]
  },
  {
   "cell_type": "code",
   "execution_count": 23,
   "id": "dried-montana",
   "metadata": {},
   "outputs": [
    {
     "data": {
      "text/html": [
       "<div>\n",
       "<style scoped>\n",
       "    .dataframe tbody tr th:only-of-type {\n",
       "        vertical-align: middle;\n",
       "    }\n",
       "\n",
       "    .dataframe tbody tr th {\n",
       "        vertical-align: top;\n",
       "    }\n",
       "\n",
       "    .dataframe thead th {\n",
       "        text-align: right;\n",
       "    }\n",
       "</style>\n",
       "<table border=\"1\" class=\"dataframe\">\n",
       "  <thead>\n",
       "    <tr style=\"text-align: right;\">\n",
       "      <th></th>\n",
       "      <th>numeric0</th>\n",
       "      <th>numeric1</th>\n",
       "      <th>categorical0</th>\n",
       "      <th>month_sin</th>\n",
       "      <th>month_cos</th>\n",
       "      <th>day_sin</th>\n",
       "      <th>day_cos</th>\n",
       "      <th>hour_sin</th>\n",
       "      <th>hour_cos</th>\n",
       "    </tr>\n",
       "  </thead>\n",
       "  <tbody>\n",
       "    <tr>\n",
       "      <th>0</th>\n",
       "      <td>0.251525</td>\n",
       "      <td>0.222222</td>\n",
       "      <td>1.0</td>\n",
       "      <td>0.250000</td>\n",
       "      <td>0.933013</td>\n",
       "      <td>0.781908</td>\n",
       "      <td>0.395298</td>\n",
       "      <td>0.635214</td>\n",
       "      <td>9.813719e-01</td>\n",
       "    </tr>\n",
       "    <tr>\n",
       "      <th>1</th>\n",
       "      <td>0.515652</td>\n",
       "      <td>0.111111</td>\n",
       "      <td>0.5</td>\n",
       "      <td>1.000000</td>\n",
       "      <td>0.500000</td>\n",
       "      <td>0.139893</td>\n",
       "      <td>0.974414</td>\n",
       "      <td>0.133728</td>\n",
       "      <td>8.405339e-01</td>\n",
       "    </tr>\n",
       "    <tr>\n",
       "      <th>2</th>\n",
       "      <td>0.593059</td>\n",
       "      <td>0.777778</td>\n",
       "      <td>0.5</td>\n",
       "      <td>0.500000</td>\n",
       "      <td>1.000000</td>\n",
       "      <td>0.749709</td>\n",
       "      <td>0.444079</td>\n",
       "      <td>0.568242</td>\n",
       "      <td>5.551115e-17</td>\n",
       "    </tr>\n",
       "    <tr>\n",
       "      <th>3</th>\n",
       "      <td>0.296730</td>\n",
       "      <td>0.222222</td>\n",
       "      <td>0.5</td>\n",
       "      <td>0.933013</td>\n",
       "      <td>0.750000</td>\n",
       "      <td>0.518345</td>\n",
       "      <td>0.729696</td>\n",
       "      <td>0.055020</td>\n",
       "      <td>7.287694e-01</td>\n",
       "    </tr>\n",
       "    <tr>\n",
       "      <th>4</th>\n",
       "      <td>0.019402</td>\n",
       "      <td>0.555556</td>\n",
       "      <td>1.0</td>\n",
       "      <td>0.500000</td>\n",
       "      <td>0.000000</td>\n",
       "      <td>0.174762</td>\n",
       "      <td>0.962697</td>\n",
       "      <td>0.133728</td>\n",
       "      <td>8.405339e-01</td>\n",
       "    </tr>\n",
       "  </tbody>\n",
       "</table>\n",
       "</div>"
      ],
      "text/plain": [
       "   numeric0  numeric1  categorical0  month_sin  month_cos   day_sin   day_cos  \\\n",
       "0  0.251525  0.222222           1.0   0.250000   0.933013  0.781908  0.395298   \n",
       "1  0.515652  0.111111           0.5   1.000000   0.500000  0.139893  0.974414   \n",
       "2  0.593059  0.777778           0.5   0.500000   1.000000  0.749709  0.444079   \n",
       "3  0.296730  0.222222           0.5   0.933013   0.750000  0.518345  0.729696   \n",
       "4  0.019402  0.555556           1.0   0.500000   0.000000  0.174762  0.962697   \n",
       "\n",
       "   hour_sin      hour_cos  \n",
       "0  0.635214  9.813719e-01  \n",
       "1  0.133728  8.405339e-01  \n",
       "2  0.568242  5.551115e-17  \n",
       "3  0.055020  7.287694e-01  \n",
       "4  0.133728  8.405339e-01  "
      ]
     },
     "execution_count": 23,
     "metadata": {},
     "output_type": "execute_result"
    },
    {
     "data": {
      "application/javascript": [
       "\n",
       "            setTimeout(function() {\n",
       "                var nbb_cell_id = 23;\n",
       "                var nbb_unformatted_code = \"# Scale data\\nscaler = MinMaxScaler()\\n\\nX_scaled = scaler.fit_transform(X.copy())\\nX_scaled = pd.DataFrame(X_scaled, columns=X.columns)\\nX_scaled.head()\";\n",
       "                var nbb_formatted_code = \"# Scale data\\nscaler = MinMaxScaler()\\n\\nX_scaled = scaler.fit_transform(X.copy())\\nX_scaled = pd.DataFrame(X_scaled, columns=X.columns)\\nX_scaled.head()\";\n",
       "                var nbb_cells = Jupyter.notebook.get_cells();\n",
       "                for (var i = 0; i < nbb_cells.length; ++i) {\n",
       "                    if (nbb_cells[i].input_prompt_number == nbb_cell_id) {\n",
       "                        if (nbb_cells[i].get_text() == nbb_unformatted_code) {\n",
       "                             nbb_cells[i].set_text(nbb_formatted_code);\n",
       "                        }\n",
       "                        break;\n",
       "                    }\n",
       "                }\n",
       "            }, 500);\n",
       "            "
      ],
      "text/plain": [
       "<IPython.core.display.Javascript object>"
      ]
     },
     "metadata": {},
     "output_type": "display_data"
    }
   ],
   "source": [
    "# Scale data\n",
    "scaler = MinMaxScaler()\n",
    "\n",
    "X_scaled = scaler.fit_transform(X.copy())\n",
    "X_scaled = pd.DataFrame(X_scaled, columns=X.columns)\n",
    "X_scaled.head()"
   ]
  },
  {
   "cell_type": "code",
   "execution_count": 24,
   "id": "pressed-connection",
   "metadata": {},
   "outputs": [
    {
     "name": "stdout",
     "output_type": "stream",
     "text": [
      "Feature ranking:\n",
      "  feature numeric0    : (0.3073)\n",
      "  feature categorical0: (0.1907)\n",
      "  feature numeric1    : (0.0851)\n",
      "  feature day_sin     : (0.0808)\n",
      "  feature day_cos     : (0.0798)\n",
      "  feature hour_sin    : (0.0796)\n",
      "  feature hour_cos    : (0.0674)\n",
      "  feature month_sin   : (0.0551)\n",
      "  feature month_cos   : (0.0541)\n"
     ]
    },
    {
     "data": {
      "application/javascript": [
       "\n",
       "            setTimeout(function() {\n",
       "                var nbb_cell_id = 24;\n",
       "                var nbb_unformatted_code = \"# Evaluating feature importance\\nclf = RandomForestClassifier(n_estimators=200)\\nclf = clf.fit(X=X_scaled, y=y)\\nindices = np.argsort(clf.feature_importances_)[::-1]\\n\\nprint(\\\"Feature ranking:\\\")\\nfor f in range(X_scaled.shape[1]):\\n    name = X_scaled.columns[indices[f]]\\n    score = clf.feature_importances_[indices[f]]\\n    print(f\\\"  feature {name:12}: ({score:.4f})\\\")\";\n",
       "                var nbb_formatted_code = \"# Evaluating feature importance\\nclf = RandomForestClassifier(n_estimators=200)\\nclf = clf.fit(X=X_scaled, y=y)\\nindices = np.argsort(clf.feature_importances_)[::-1]\\n\\nprint(\\\"Feature ranking:\\\")\\nfor f in range(X_scaled.shape[1]):\\n    name = X_scaled.columns[indices[f]]\\n    score = clf.feature_importances_[indices[f]]\\n    print(f\\\"  feature {name:12}: ({score:.4f})\\\")\";\n",
       "                var nbb_cells = Jupyter.notebook.get_cells();\n",
       "                for (var i = 0; i < nbb_cells.length; ++i) {\n",
       "                    if (nbb_cells[i].input_prompt_number == nbb_cell_id) {\n",
       "                        if (nbb_cells[i].get_text() == nbb_unformatted_code) {\n",
       "                             nbb_cells[i].set_text(nbb_formatted_code);\n",
       "                        }\n",
       "                        break;\n",
       "                    }\n",
       "                }\n",
       "            }, 500);\n",
       "            "
      ],
      "text/plain": [
       "<IPython.core.display.Javascript object>"
      ]
     },
     "metadata": {},
     "output_type": "display_data"
    }
   ],
   "source": [
    "# Evaluating feature importance\n",
    "clf = RandomForestClassifier(n_estimators=200)\n",
    "clf = clf.fit(X=X_scaled, y=y)\n",
    "indices = np.argsort(clf.feature_importances_)[::-1]\n",
    "\n",
    "print(\"Feature ranking:\")\n",
    "for f in range(X_scaled.shape[1]):\n",
    "    name = X_scaled.columns[indices[f]]\n",
    "    score = clf.feature_importances_[indices[f]]\n",
    "    print(f\"  feature {name:12}: ({score:.4f})\")"
   ]
  },
  {
   "cell_type": "markdown",
   "id": "romantic-mineral",
   "metadata": {},
   "source": [
    "Only a couple of features have high importance. But we can't just throw away other features due to class imbalance, cause less important factors could be important for predicting `1`."
   ]
  },
  {
   "cell_type": "code",
   "execution_count": 25,
   "id": "italic-boston",
   "metadata": {},
   "outputs": [
    {
     "name": "stdout",
     "output_type": "stream",
     "text": [
      "target\n",
      "0    6936\n",
      "1    1064\n",
      "Name: count, dtype: int64\n",
      "target\n",
      "0    1734\n",
      "1     266\n",
      "Name: count, dtype: int64\n"
     ]
    },
    {
     "data": {
      "application/javascript": [
       "\n",
       "            setTimeout(function() {\n",
       "                var nbb_cell_id = 25;\n",
       "                var nbb_unformatted_code = \"X_train, X_val, y_train, y_val = train_test_split(\\n    X_scaled, y, train_size=0.8, random_state=42, stratify=y\\n)\\nprint(y_train.value_counts())\\nprint(y_val.value_counts())\";\n",
       "                var nbb_formatted_code = \"X_train, X_val, y_train, y_val = train_test_split(\\n    X_scaled, y, train_size=0.8, random_state=42, stratify=y\\n)\\nprint(y_train.value_counts())\\nprint(y_val.value_counts())\";\n",
       "                var nbb_cells = Jupyter.notebook.get_cells();\n",
       "                for (var i = 0; i < nbb_cells.length; ++i) {\n",
       "                    if (nbb_cells[i].input_prompt_number == nbb_cell_id) {\n",
       "                        if (nbb_cells[i].get_text() == nbb_unformatted_code) {\n",
       "                             nbb_cells[i].set_text(nbb_formatted_code);\n",
       "                        }\n",
       "                        break;\n",
       "                    }\n",
       "                }\n",
       "            }, 500);\n",
       "            "
      ],
      "text/plain": [
       "<IPython.core.display.Javascript object>"
      ]
     },
     "metadata": {},
     "output_type": "display_data"
    }
   ],
   "source": [
    "X_train, X_val, y_train, y_val = train_test_split(\n",
    "    X_scaled, y, train_size=0.8, random_state=42, stratify=y\n",
    ")\n",
    "print(y_train.value_counts())\n",
    "print(y_val.value_counts())"
   ]
  },
  {
   "cell_type": "code",
   "execution_count": 26,
   "id": "female-endorsement",
   "metadata": {},
   "outputs": [
    {
     "data": {
      "application/javascript": [
       "\n",
       "            setTimeout(function() {\n",
       "                var nbb_cell_id = 26;\n",
       "                var nbb_unformatted_code = \"clf = RandomForestClassifier(\\n    n_estimators=200,\\n    n_jobs=-1,\\n    criterion=\\\"gini\\\",\\n    max_features=\\\"sqrt\\\",\\n    min_samples_split=100,\\n    max_depth=10,\\n    random_state=42,\\n)\\n\\ncalibrated_clf = CalibratedClassifierCV(estimator=clf, method=\\\"sigmoid\\\", cv=5)\\ncalibrated_clf.fit(X=X_train, y=y_train)\\n\\npreds_proba_valid = calibrated_clf.predict_proba(X_val)\\npredictions_valid = calibrated_clf.predict(X_val)\";\n",
       "                var nbb_formatted_code = \"clf = RandomForestClassifier(\\n    n_estimators=200,\\n    n_jobs=-1,\\n    criterion=\\\"gini\\\",\\n    max_features=\\\"sqrt\\\",\\n    min_samples_split=100,\\n    max_depth=10,\\n    random_state=42,\\n)\\n\\ncalibrated_clf = CalibratedClassifierCV(estimator=clf, method=\\\"sigmoid\\\", cv=5)\\ncalibrated_clf.fit(X=X_train, y=y_train)\\n\\npreds_proba_valid = calibrated_clf.predict_proba(X_val)\\npredictions_valid = calibrated_clf.predict(X_val)\";\n",
       "                var nbb_cells = Jupyter.notebook.get_cells();\n",
       "                for (var i = 0; i < nbb_cells.length; ++i) {\n",
       "                    if (nbb_cells[i].input_prompt_number == nbb_cell_id) {\n",
       "                        if (nbb_cells[i].get_text() == nbb_unformatted_code) {\n",
       "                             nbb_cells[i].set_text(nbb_formatted_code);\n",
       "                        }\n",
       "                        break;\n",
       "                    }\n",
       "                }\n",
       "            }, 500);\n",
       "            "
      ],
      "text/plain": [
       "<IPython.core.display.Javascript object>"
      ]
     },
     "metadata": {},
     "output_type": "display_data"
    }
   ],
   "source": [
    "clf = RandomForestClassifier(\n",
    "    n_estimators=200,\n",
    "    n_jobs=-1,\n",
    "    criterion=\"gini\",\n",
    "    max_features=\"sqrt\",\n",
    "    min_samples_split=100,\n",
    "    max_depth=10,\n",
    "    random_state=42,\n",
    ")\n",
    "\n",
    "calibrated_clf = CalibratedClassifierCV(estimator=clf, method=\"sigmoid\", cv=5)\n",
    "calibrated_clf.fit(X=X_train, y=y_train)\n",
    "\n",
    "preds_proba_valid = calibrated_clf.predict_proba(X_val)\n",
    "predictions_valid = calibrated_clf.predict(X_val)"
   ]
  },
  {
   "cell_type": "code",
   "execution_count": 27,
   "id": "approved-dallas",
   "metadata": {},
   "outputs": [
    {
     "data": {
      "application/javascript": [
       "\n",
       "            setTimeout(function() {\n",
       "                var nbb_cell_id = 27;\n",
       "                var nbb_unformatted_code = \"# Define helper functions\\ndef find_threshold(\\n    true_values: list, predictions_proba: list, plot_pr: bool = True\\n) -> tuple:\\n    precision, recall, thresholds = precision_recall_curve(\\n        y_true=true_values, y_score=predictions_proba\\n    )\\n    eps = np.finfo(float).eps  # to avoid division by `0`\\n    fscore = 2 * (precision * recall) / ((precision + recall) + eps)\\n    idx = np.argmax(fscore)\\n    best_thres = thresholds[idx]\\n    best_fscore = fscore[idx]\\n    print(f\\\"Best threshold: {best_thres:.3f}, Best fscore: {best_fscore:.3f}\\\")\\n    if plot_pr:\\n        plot(recall=recall, precision=precision)\\n    return best_thres\\n\\n\\ndef plot(recall: list, precision: list) -> None:\\n    fig, ax = plt.subplots()\\n    ax.step(recall, precision, color=\\\"r\\\", alpha=0.99, where=\\\"post\\\", lw=1)\\n    ax.fill_between(recall, precision, alpha=0.2, color=\\\"b\\\", step=\\\"post\\\")\\n    plt.xlabel(\\\"Recall\\\")\\n    plt.ylabel(\\\"Precision\\\")\\n    plt.ylim([0.0, 1.0])\\n    plt.xlim([0.0, 1.0])\\n    plt.show()\";\n",
       "                var nbb_formatted_code = \"# Define helper functions\\ndef find_threshold(\\n    true_values: list, predictions_proba: list, plot_pr: bool = True\\n) -> tuple:\\n    precision, recall, thresholds = precision_recall_curve(\\n        y_true=true_values, y_score=predictions_proba\\n    )\\n    eps = np.finfo(float).eps  # to avoid division by `0`\\n    fscore = 2 * (precision * recall) / ((precision + recall) + eps)\\n    idx = np.argmax(fscore)\\n    best_thres = thresholds[idx]\\n    best_fscore = fscore[idx]\\n    print(f\\\"Best threshold: {best_thres:.3f}, Best fscore: {best_fscore:.3f}\\\")\\n    if plot_pr:\\n        plot(recall=recall, precision=precision)\\n    return best_thres\\n\\n\\ndef plot(recall: list, precision: list) -> None:\\n    fig, ax = plt.subplots()\\n    ax.step(recall, precision, color=\\\"r\\\", alpha=0.99, where=\\\"post\\\", lw=1)\\n    ax.fill_between(recall, precision, alpha=0.2, color=\\\"b\\\", step=\\\"post\\\")\\n    plt.xlabel(\\\"Recall\\\")\\n    plt.ylabel(\\\"Precision\\\")\\n    plt.ylim([0.0, 1.0])\\n    plt.xlim([0.0, 1.0])\\n    plt.show()\";\n",
       "                var nbb_cells = Jupyter.notebook.get_cells();\n",
       "                for (var i = 0; i < nbb_cells.length; ++i) {\n",
       "                    if (nbb_cells[i].input_prompt_number == nbb_cell_id) {\n",
       "                        if (nbb_cells[i].get_text() == nbb_unformatted_code) {\n",
       "                             nbb_cells[i].set_text(nbb_formatted_code);\n",
       "                        }\n",
       "                        break;\n",
       "                    }\n",
       "                }\n",
       "            }, 500);\n",
       "            "
      ],
      "text/plain": [
       "<IPython.core.display.Javascript object>"
      ]
     },
     "metadata": {},
     "output_type": "display_data"
    }
   ],
   "source": [
    "# Define helper functions\n",
    "def find_threshold(\n",
    "    true_values: list, predictions_proba: list, plot_pr: bool = True\n",
    ") -> tuple:\n",
    "    precision, recall, thresholds = precision_recall_curve(\n",
    "        y_true=true_values, y_score=predictions_proba\n",
    "    )\n",
    "    eps = np.finfo(float).eps  # to avoid division by `0`\n",
    "    fscore = 2 * (precision * recall) / ((precision + recall) + eps)\n",
    "    idx = np.argmax(fscore)\n",
    "    best_thres = thresholds[idx]\n",
    "    best_fscore = fscore[idx]\n",
    "    print(f\"Best threshold: {best_thres:.3f}, Best fscore: {best_fscore:.3f}\")\n",
    "    if plot_pr:\n",
    "        plot(recall=recall, precision=precision)\n",
    "    return best_thres\n",
    "\n",
    "\n",
    "def plot(recall: list, precision: list) -> None:\n",
    "    fig, ax = plt.subplots()\n",
    "    ax.step(recall, precision, color=\"r\", alpha=0.99, where=\"post\", lw=1)\n",
    "    ax.fill_between(recall, precision, alpha=0.2, color=\"b\", step=\"post\")\n",
    "    plt.xlabel(\"Recall\")\n",
    "    plt.ylabel(\"Precision\")\n",
    "    plt.ylim([0.0, 1.0])\n",
    "    plt.xlim([0.0, 1.0])\n",
    "    plt.show()"
   ]
  },
  {
   "cell_type": "code",
   "execution_count": 28,
   "id": "thirty-massachusetts",
   "metadata": {},
   "outputs": [
    {
     "name": "stdout",
     "output_type": "stream",
     "text": [
      "Best threshold: 0.208, Best fscore: 0.484\n"
     ]
    },
    {
     "data": {
      "image/png": "[encoded data removed]",
      "text/plain": [
       "<Figure size 640x480 with 1 Axes>"
      ]
     },
     "metadata": {},
     "output_type": "display_data"
    },
    {
     "data": {
      "application/javascript": [
       "\n",
       "            setTimeout(function() {\n",
       "                var nbb_cell_id = 28;\n",
       "                var nbb_unformatted_code = \"best_thres = find_threshold(\\n    true_values=y_val.values, predictions_proba=preds_proba_valid[:, 1], plot_pr=True\\n)\";\n",
       "                var nbb_formatted_code = \"best_thres = find_threshold(\\n    true_values=y_val.values, predictions_proba=preds_proba_valid[:, 1], plot_pr=True\\n)\";\n",
       "                var nbb_cells = Jupyter.notebook.get_cells();\n",
       "                for (var i = 0; i < nbb_cells.length; ++i) {\n",
       "                    if (nbb_cells[i].input_prompt_number == nbb_cell_id) {\n",
       "                        if (nbb_cells[i].get_text() == nbb_unformatted_code) {\n",
       "                             nbb_cells[i].set_text(nbb_formatted_code);\n",
       "                        }\n",
       "                        break;\n",
       "                    }\n",
       "                }\n",
       "            }, 500);\n",
       "            "
      ],
      "text/plain": [
       "<IPython.core.display.Javascript object>"
      ]
     },
     "metadata": {},
     "output_type": "display_data"
    }
   ],
   "source": [
    "best_thres = find_threshold(\n",
    "    true_values=y_val.values, predictions_proba=preds_proba_valid[:, 1], plot_pr=True\n",
    ")"
   ]
  },
  {
   "cell_type": "code",
   "execution_count": 29,
   "id": "international-debate",
   "metadata": {},
   "outputs": [
    {
     "name": "stdout",
     "output_type": "stream",
     "text": [
      "Default behavior (the predicted class is the one with highest mean probability):\n",
      "\n",
      "              precision    recall  f1-score   support\n",
      "\n",
      "           0     0.8929    0.9954    0.9414      1734\n",
      "           1     0.8806    0.2218    0.3544       266\n",
      "\n",
      "    accuracy                         0.8925      2000\n",
      "   macro avg     0.8868    0.6086    0.6479      2000\n",
      "weighted avg     0.8913    0.8925    0.8633      2000\n",
      "\n"
     ]
    },
    {
     "data": {
      "application/javascript": [
       "\n",
       "            setTimeout(function() {\n",
       "                var nbb_cell_id = 29;\n",
       "                var nbb_unformatted_code = \"print(\\n    \\\"Default behavior (the predicted class is the one with highest mean probability):\\\\n\\\"\\n)\\nprint(\\n    classification_report(\\n        y_true=y_val,\\n        y_pred=pd.DataFrame(preds_proba_valid).idxmax(axis=1).values,\\n        target_names=[\\\"0\\\", \\\"1\\\"],\\n        digits=4,\\n    )\\n)\";\n",
       "                var nbb_formatted_code = \"print(\\n    \\\"Default behavior (the predicted class is the one with highest mean probability):\\\\n\\\"\\n)\\nprint(\\n    classification_report(\\n        y_true=y_val,\\n        y_pred=pd.DataFrame(preds_proba_valid).idxmax(axis=1).values,\\n        target_names=[\\\"0\\\", \\\"1\\\"],\\n        digits=4,\\n    )\\n)\";\n",
       "                var nbb_cells = Jupyter.notebook.get_cells();\n",
       "                for (var i = 0; i < nbb_cells.length; ++i) {\n",
       "                    if (nbb_cells[i].input_prompt_number == nbb_cell_id) {\n",
       "                        if (nbb_cells[i].get_text() == nbb_unformatted_code) {\n",
       "                             nbb_cells[i].set_text(nbb_formatted_code);\n",
       "                        }\n",
       "                        break;\n",
       "                    }\n",
       "                }\n",
       "            }, 500);\n",
       "            "
      ],
      "text/plain": [
       "<IPython.core.display.Javascript object>"
      ]
     },
     "metadata": {},
     "output_type": "display_data"
    }
   ],
   "source": [
    "print(\n",
    "    \"Default behavior (the predicted class is the one with highest mean probability):\\n\"\n",
    ")\n",
    "print(\n",
    "    classification_report(\n",
    "        y_true=y_val,\n",
    "        y_pred=pd.DataFrame(preds_proba_valid).idxmax(axis=1).values,\n",
    "        target_names=[\"0\", \"1\"],\n",
    "        digits=4,\n",
    "    )\n",
    ")"
   ]
  },
  {
   "cell_type": "markdown",
   "id": "unique-dealing",
   "metadata": {},
   "source": [
    "Assuming we have a case where both classes (`0` and `1`) are equally important, we can observe the result (f1-score): `0.6479`\n",
    "\n",
    "---"
   ]
  },
  {
   "cell_type": "code",
   "execution_count": 30,
   "id": "acoustic-cartoon",
   "metadata": {},
   "outputs": [
    {
     "name": "stdout",
     "output_type": "stream",
     "text": [
      "If we choose the best threshold that maximizes F1-score:\n",
      "\n",
      "              precision    recall  f1-score   support\n",
      "\n",
      "           0     0.9575    0.7797    0.8595      1734\n",
      "           1     0.3503    0.7744    0.4824       266\n",
      "\n",
      "    accuracy                         0.7790      2000\n",
      "   macro avg     0.6539    0.7771    0.6710      2000\n",
      "weighted avg     0.8768    0.7790    0.8094      2000\n",
      "\n"
     ]
    },
    {
     "data": {
      "application/javascript": [
       "\n",
       "            setTimeout(function() {\n",
       "                var nbb_cell_id = 30;\n",
       "                var nbb_unformatted_code = \"print(\\\"If we choose the best threshold that maximizes F1-score:\\\\n\\\")\\nprint(\\n    classification_report(\\n        y_true=y_val,\\n        y_pred=np.asarray(preds_proba_valid[:, 1] > best_thres, dtype=int),\\n        target_names=[\\\"0\\\", \\\"1\\\"],\\n        digits=4,\\n    )\\n)\";\n",
       "                var nbb_formatted_code = \"print(\\\"If we choose the best threshold that maximizes F1-score:\\\\n\\\")\\nprint(\\n    classification_report(\\n        y_true=y_val,\\n        y_pred=np.asarray(preds_proba_valid[:, 1] > best_thres, dtype=int),\\n        target_names=[\\\"0\\\", \\\"1\\\"],\\n        digits=4,\\n    )\\n)\";\n",
       "                var nbb_cells = Jupyter.notebook.get_cells();\n",
       "                for (var i = 0; i < nbb_cells.length; ++i) {\n",
       "                    if (nbb_cells[i].input_prompt_number == nbb_cell_id) {\n",
       "                        if (nbb_cells[i].get_text() == nbb_unformatted_code) {\n",
       "                             nbb_cells[i].set_text(nbb_formatted_code);\n",
       "                        }\n",
       "                        break;\n",
       "                    }\n",
       "                }\n",
       "            }, 500);\n",
       "            "
      ],
      "text/plain": [
       "<IPython.core.display.Javascript object>"
      ]
     },
     "metadata": {},
     "output_type": "display_data"
    }
   ],
   "source": [
    "print(\"If we choose the best threshold that maximizes F1-score:\\n\")\n",
    "print(\n",
    "    classification_report(\n",
    "        y_true=y_val,\n",
    "        y_pred=np.asarray(preds_proba_valid[:, 1] > best_thres, dtype=int),\n",
    "        target_names=[\"0\", \"1\"],\n",
    "        digits=4,\n",
    "    )\n",
    ")"
   ]
  },
  {
   "cell_type": "markdown",
   "id": "independent-screening",
   "metadata": {},
   "source": [
    "Using the adjusted threshold we can observe better result (f1-score): `0.6710`\n",
    "\n",
    "Also, the higher recall for positive/rare class (with the cost of decreased precision)"
   ]
  },
  {
   "cell_type": "markdown",
   "id": "large-dressing",
   "metadata": {},
   "source": [
    "## Let's try to train a neural network\n",
    "\n",
    "Overall steps for developing a model:\n",
    "- First, choose simple model\n",
    "- Define dataset\n",
    "- Try to overfit on a small part of dataset\n",
    "- Tune hyperparameters, increase model complexity if needed\n",
    "- Try to overfit on a larger part of dataset\n",
    "- Use whole dataset for training\n",
    "- Check inference"
   ]
  },
  {
   "cell_type": "markdown",
   "id": "inappropriate-identity",
   "metadata": {},
   "source": [
    "## Data preprocessing for deep learning"
   ]
  },
  {
   "cell_type": "code",
   "execution_count": 31,
   "id": "transsexual-placement",
   "metadata": {},
   "outputs": [
    {
     "data": {
      "text/plain": [
       "{0: np.float64(0.5767012687427913), 1: np.float64(3.7593984962406015)}"
      ]
     },
     "execution_count": 31,
     "metadata": {},
     "output_type": "execute_result"
    },
    {
     "data": {
      "application/javascript": [
       "\n",
       "            setTimeout(function() {\n",
       "                var nbb_cell_id = 31;\n",
       "                var nbb_unformatted_code = \"# Define class weights\\nneg, pos = np.bincount(np.asarray(y.values, dtype=np.int8))\\ntotal = neg + pos\\n\\nweight_for_0 = (1 / neg) * (total) / 2.0\\nweight_for_1 = (1 / pos) * (total) / 2.0\\n\\nclass_weight = {0: weight_for_0, 1: weight_for_1}\\nclass_weight\";\n",
       "                var nbb_formatted_code = \"# Define class weights\\nneg, pos = np.bincount(np.asarray(y.values, dtype=np.int8))\\ntotal = neg + pos\\n\\nweight_for_0 = (1 / neg) * (total) / 2.0\\nweight_for_1 = (1 / pos) * (total) / 2.0\\n\\nclass_weight = {0: weight_for_0, 1: weight_for_1}\\nclass_weight\";\n",
       "                var nbb_cells = Jupyter.notebook.get_cells();\n",
       "                for (var i = 0; i < nbb_cells.length; ++i) {\n",
       "                    if (nbb_cells[i].input_prompt_number == nbb_cell_id) {\n",
       "                        if (nbb_cells[i].get_text() == nbb_unformatted_code) {\n",
       "                             nbb_cells[i].set_text(nbb_formatted_code);\n",
       "                        }\n",
       "                        break;\n",
       "                    }\n",
       "                }\n",
       "            }, 500);\n",
       "            "
      ],
      "text/plain": [
       "<IPython.core.display.Javascript object>"
      ]
     },
     "metadata": {},
     "output_type": "display_data"
    }
   ],
   "source": [
    "# Define class weights\n",
    "neg, pos = np.bincount(np.asarray(y.values, dtype=np.int8))\n",
    "total = neg + pos\n",
    "\n",
    "weight_for_0 = (1 / neg) * (total) / 2.0\n",
    "weight_for_1 = (1 / pos) * (total) / 2.0\n",
    "\n",
    "class_weight = {0: weight_for_0, 1: weight_for_1}\n",
    "class_weight"
   ]
  },
  {
   "cell_type": "markdown",
   "id": "intimate-marsh",
   "metadata": {},
   "source": [
    "## Training parameters"
   ]
  },
  {
   "cell_type": "code",
   "execution_count": 32,
   "id": "accomplished-receiver",
   "metadata": {},
   "outputs": [
    {
     "data": {
      "application/javascript": [
       "\n",
       "            setTimeout(function() {\n",
       "                var nbb_cell_id = 32;\n",
       "                var nbb_unformatted_code = \"# Parameters for training\\nepochs = 20\\nbatch_size = 16\\nlearning_rate = 0.001\\ndecay_steps = 5\\nlr_decay_rate = 0.7\";\n",
       "                var nbb_formatted_code = \"# Parameters for training\\nepochs = 20\\nbatch_size = 16\\nlearning_rate = 0.001\\ndecay_steps = 5\\nlr_decay_rate = 0.7\";\n",
       "                var nbb_cells = Jupyter.notebook.get_cells();\n",
       "                for (var i = 0; i < nbb_cells.length; ++i) {\n",
       "                    if (nbb_cells[i].input_prompt_number == nbb_cell_id) {\n",
       "                        if (nbb_cells[i].get_text() == nbb_unformatted_code) {\n",
       "                             nbb_cells[i].set_text(nbb_formatted_code);\n",
       "                        }\n",
       "                        break;\n",
       "                    }\n",
       "                }\n",
       "            }, 500);\n",
       "            "
      ],
      "text/plain": [
       "<IPython.core.display.Javascript object>"
      ]
     },
     "metadata": {},
     "output_type": "display_data"
    }
   ],
   "source": [
    "# Parameters for training\n",
    "epochs = 20\n",
    "batch_size = 16\n",
    "learning_rate = 0.001\n",
    "decay_steps = 5\n",
    "lr_decay_rate = 0.7"
   ]
  },
  {
   "cell_type": "markdown",
   "id": "direct-filter",
   "metadata": {},
   "source": [
    "## Build model"
   ]
  },
  {
   "cell_type": "code",
   "execution_count": 33,
   "id": "caroline-plant",
   "metadata": {},
   "outputs": [
    {
     "data": {
      "text/html": [
       "<pre style=\"white-space:pre;overflow-x:auto;line-height:normal;font-family:Menlo,'DejaVu Sans Mono',consolas,'Courier New',monospace\"><span style=\"font-weight: bold\">Model: \"sequential\"</span>\n",
       "</pre>\n"
      ],
      "text/plain": [
       "\u001b[1mModel: \"sequential\"\u001b[0m\n"
      ]
     },
     "metadata": {},
     "output_type": "display_data"
    },
    {
     "data": {
      "text/html": [
       "<pre style=\"white-space:pre;overflow-x:auto;line-height:normal;font-family:Menlo,'DejaVu Sans Mono',consolas,'Courier New',monospace\">┏━━━━━━━━━━━━━━━━━━━━━━━━━━━━━━━━━┳━━━━━━━━━━━━━━━━━━━━━━━━┳━━━━━━━━━━━━━━━┓\n",
       "┃<span style=\"font-weight: bold\"> Layer (type)                    </span>┃<span style=\"font-weight: bold\"> Output Shape           </span>┃<span style=\"font-weight: bold\">       Param # </span>┃\n",
       "┡━━━━━━━━━━━━━━━━━━━━━━━━━━━━━━━━━╇━━━━━━━━━━━━━━━━━━━━━━━━╇━━━━━━━━━━━━━━━┩\n",
       "│ dense (<span style=\"color: #0087ff; text-decoration-color: #0087ff\">Dense</span>)                   │ (<span style=\"color: #00d7ff; text-decoration-color: #00d7ff\">None</span>, <span style=\"color: #00af00; text-decoration-color: #00af00\">512</span>)            │         <span style=\"color: #00af00; text-decoration-color: #00af00\">5,120</span> │\n",
       "├─────────────────────────────────┼────────────────────────┼───────────────┤\n",
       "│ dense_1 (<span style=\"color: #0087ff; text-decoration-color: #0087ff\">Dense</span>)                 │ (<span style=\"color: #00d7ff; text-decoration-color: #00d7ff\">None</span>, <span style=\"color: #00af00; text-decoration-color: #00af00\">32</span>)             │        <span style=\"color: #00af00; text-decoration-color: #00af00\">16,416</span> │\n",
       "├─────────────────────────────────┼────────────────────────┼───────────────┤\n",
       "│ dropout (<span style=\"color: #0087ff; text-decoration-color: #0087ff\">Dropout</span>)               │ (<span style=\"color: #00d7ff; text-decoration-color: #00d7ff\">None</span>, <span style=\"color: #00af00; text-decoration-color: #00af00\">32</span>)             │             <span style=\"color: #00af00; text-decoration-color: #00af00\">0</span> │\n",
       "├─────────────────────────────────┼────────────────────────┼───────────────┤\n",
       "│ dense_2 (<span style=\"color: #0087ff; text-decoration-color: #0087ff\">Dense</span>)                 │ (<span style=\"color: #00d7ff; text-decoration-color: #00d7ff\">None</span>, <span style=\"color: #00af00; text-decoration-color: #00af00\">1</span>)              │            <span style=\"color: #00af00; text-decoration-color: #00af00\">33</span> │\n",
       "└─────────────────────────────────┴────────────────────────┴───────────────┘\n",
       "</pre>\n"
      ],
      "text/plain": [
       "┏━━━━━━━━━━━━━━━━━━━━━━━━━━━━━━━━━┳━━━━━━━━━━━━━━━━━━━━━━━━┳━━━━━━━━━━━━━━━┓\n",
       "┃\u001b[1m \u001b[0m\u001b[1mLayer (type)                   \u001b[0m\u001b[1m \u001b[0m┃\u001b[1m \u001b[0m\u001b[1mOutput Shape          \u001b[0m\u001b[1m \u001b[0m┃\u001b[1m \u001b[0m\u001b[1m      Param #\u001b[0m\u001b[1m \u001b[0m┃\n",
       "┡━━━━━━━━━━━━━━━━━━━━━━━━━━━━━━━━━╇━━━━━━━━━━━━━━━━━━━━━━━━╇━━━━━━━━━━━━━━━┩\n",
       "│ dense (\u001b[38;5;33mDense\u001b[0m)                   │ (\u001b[38;5;45mNone\u001b[0m, \u001b[38;5;34m512\u001b[0m)            │         \u001b[38;5;34m5,120\u001b[0m │\n",
       "├─────────────────────────────────┼────────────────────────┼───────────────┤\n",
       "│ dense_1 (\u001b[38;5;33mDense\u001b[0m)                 │ (\u001b[38;5;45mNone\u001b[0m, \u001b[38;5;34m32\u001b[0m)             │        \u001b[38;5;34m16,416\u001b[0m │\n",
       "├─────────────────────────────────┼────────────────────────┼───────────────┤\n",
       "│ dropout (\u001b[38;5;33mDropout\u001b[0m)               │ (\u001b[38;5;45mNone\u001b[0m, \u001b[38;5;34m32\u001b[0m)             │             \u001b[38;5;34m0\u001b[0m │\n",
       "├─────────────────────────────────┼────────────────────────┼───────────────┤\n",
       "│ dense_2 (\u001b[38;5;33mDense\u001b[0m)                 │ (\u001b[38;5;45mNone\u001b[0m, \u001b[38;5;34m1\u001b[0m)              │            \u001b[38;5;34m33\u001b[0m │\n",
       "└─────────────────────────────────┴────────────────────────┴───────────────┘\n"
      ]
     },
     "metadata": {},
     "output_type": "display_data"
    },
    {
     "data": {
      "text/html": [
       "<pre style=\"white-space:pre;overflow-x:auto;line-height:normal;font-family:Menlo,'DejaVu Sans Mono',consolas,'Courier New',monospace\"><span style=\"font-weight: bold\"> Total params: </span><span style=\"color: #00af00; text-decoration-color: #00af00\">21,569</span> (84.25 KB)\n",
       "</pre>\n"
      ],
      "text/plain": [
       "\u001b[1m Total params: \u001b[0m\u001b[38;5;34m21,569\u001b[0m (84.25 KB)\n"
      ]
     },
     "metadata": {},
     "output_type": "display_data"
    },
    {
     "data": {
      "text/html": [
       "<pre style=\"white-space:pre;overflow-x:auto;line-height:normal;font-family:Menlo,'DejaVu Sans Mono',consolas,'Courier New',monospace\"><span style=\"font-weight: bold\"> Trainable params: </span><span style=\"color: #00af00; text-decoration-color: #00af00\">21,569</span> (84.25 KB)\n",
       "</pre>\n"
      ],
      "text/plain": [
       "\u001b[1m Trainable params: \u001b[0m\u001b[38;5;34m21,569\u001b[0m (84.25 KB)\n"
      ]
     },
     "metadata": {},
     "output_type": "display_data"
    },
    {
     "data": {
      "text/html": [
       "<pre style=\"white-space:pre;overflow-x:auto;line-height:normal;font-family:Menlo,'DejaVu Sans Mono',consolas,'Courier New',monospace\"><span style=\"font-weight: bold\"> Non-trainable params: </span><span style=\"color: #00af00; text-decoration-color: #00af00\">0</span> (0.00 B)\n",
       "</pre>\n"
      ],
      "text/plain": [
       "\u001b[1m Non-trainable params: \u001b[0m\u001b[38;5;34m0\u001b[0m (0.00 B)\n"
      ]
     },
     "metadata": {},
     "output_type": "display_data"
    },
    {
     "data": {
      "application/javascript": [
       "\n",
       "            setTimeout(function() {\n",
       "                var nbb_cell_id = 33;\n",
       "                var nbb_unformatted_code = \"# Model\\nmodel = Sequential()\\nmodel.add(Input(shape=(X_train.shape[1],)))\\nmodel.add(Dense(512, activation=\\\"relu\\\"))\\nmodel.add(Dense(32, activation=\\\"relu\\\"))\\nmodel.add(Dropout(0.2))\\nmodel.add(Dense(1, activation=\\\"sigmoid\\\"))\\n\\n# Helper function for a step decay\\ndef scheduler(epoch):\\n    if epoch == 0:\\n        print(\\\"learning rate:\\\", K.get_value(model.optimizer.learning_rate))\\n    # Decay lr\\n    if (epoch + 1) % decay_steps == 0:\\n        lr = K.get_value(model.optimizer.learning_rate)\\n        new_value = lr * lr_decay_rate\\n        model.optimizer.learning_rate.assign(new_value)\\n        print(\\\"learning rate:\\\", K.get_value(model.optimizer.learning_rate))\\n    return K.get_value(model.optimizer.learning_rate)\\n\\n\\n# Define callbacks\\nlearning_rate_decay = LearningRateScheduler(scheduler)\\nearly_stop = EarlyStopping(monitor=\\\"val_loss\\\", patience=20)\\n\\nmetrics = [\\n    keras.metrics.Precision(name=\\\"precision\\\"),\\n    keras.metrics.Recall(name=\\\"recall\\\"),\\n    keras.metrics.BinaryAccuracy(name=\\\"accuracy\\\"),\\n]\\n\\n# Model\\nmodel.compile(\\n    optimizer=Adam(learning_rate=learning_rate),\\n    loss=\\\"binary_crossentropy\\\",\\n    metrics=metrics,\\n)\\nmodel.summary()\";\n",
       "                var nbb_formatted_code = \"# Model\\nmodel = Sequential()\\nmodel.add(Input(shape=(X_train.shape[1],)))\\nmodel.add(Dense(512, activation=\\\"relu\\\"))\\nmodel.add(Dense(32, activation=\\\"relu\\\"))\\nmodel.add(Dropout(0.2))\\nmodel.add(Dense(1, activation=\\\"sigmoid\\\"))\\n\\n\\n# Helper function for a step decay\\ndef scheduler(epoch):\\n    if epoch == 0:\\n        print(\\\"learning rate:\\\", K.get_value(model.optimizer.learning_rate))\\n    # Decay lr\\n    if (epoch + 1) % decay_steps == 0:\\n        lr = K.get_value(model.optimizer.learning_rate)\\n        new_value = lr * lr_decay_rate\\n        model.optimizer.learning_rate.assign(new_value)\\n        print(\\\"learning rate:\\\", K.get_value(model.optimizer.learning_rate))\\n    return K.get_value(model.optimizer.learning_rate)\\n\\n\\n# Define callbacks\\nlearning_rate_decay = LearningRateScheduler(scheduler)\\nearly_stop = EarlyStopping(monitor=\\\"val_loss\\\", patience=20)\\n\\nmetrics = [\\n    keras.metrics.Precision(name=\\\"precision\\\"),\\n    keras.metrics.Recall(name=\\\"recall\\\"),\\n    keras.metrics.BinaryAccuracy(name=\\\"accuracy\\\"),\\n]\\n\\n# Model\\nmodel.compile(\\n    optimizer=Adam(learning_rate=learning_rate),\\n    loss=\\\"binary_crossentropy\\\",\\n    metrics=metrics,\\n)\\nmodel.summary()\";\n",
       "                var nbb_cells = Jupyter.notebook.get_cells();\n",
       "                for (var i = 0; i < nbb_cells.length; ++i) {\n",
       "                    if (nbb_cells[i].input_prompt_number == nbb_cell_id) {\n",
       "                        if (nbb_cells[i].get_text() == nbb_unformatted_code) {\n",
       "                             nbb_cells[i].set_text(nbb_formatted_code);\n",
       "                        }\n",
       "                        break;\n",
       "                    }\n",
       "                }\n",
       "            }, 500);\n",
       "            "
      ],
      "text/plain": [
       "<IPython.core.display.Javascript object>"
      ]
     },
     "metadata": {},
     "output_type": "display_data"
    }
   ],
   "source": [
    "# Model\n",
    "model = Sequential()\n",
    "model.add(Input(shape=(X_train.shape[1],)))\n",
    "model.add(Dense(512, activation=\"relu\"))\n",
    "model.add(Dense(32, activation=\"relu\"))\n",
    "model.add(Dropout(0.2))\n",
    "model.add(Dense(1, activation=\"sigmoid\"))\n",
    "\n",
    "# Helper function for a step decay\n",
    "def scheduler(epoch):\n",
    "    if epoch == 0:\n",
    "        print(\"learning rate:\", K.get_value(model.optimizer.learning_rate))\n",
    "    # Decay lr\n",
    "    if (epoch + 1) % decay_steps == 0:\n",
    "        lr = K.get_value(model.optimizer.learning_rate)\n",
    "        new_value = lr * lr_decay_rate\n",
    "        model.optimizer.learning_rate.assign(new_value)\n",
    "        print(\"learning rate:\", K.get_value(model.optimizer.learning_rate))\n",
    "    return K.get_value(model.optimizer.learning_rate)\n",
    "\n",
    "\n",
    "# Define callbacks\n",
    "learning_rate_decay = LearningRateScheduler(scheduler)\n",
    "early_stop = EarlyStopping(monitor=\"val_loss\", patience=20)\n",
    "\n",
    "metrics = [\n",
    "    keras.metrics.Precision(name=\"precision\"),\n",
    "    keras.metrics.Recall(name=\"recall\"),\n",
    "    keras.metrics.BinaryAccuracy(name=\"accuracy\"),\n",
    "]\n",
    "\n",
    "# Model\n",
    "model.compile(\n",
    "    optimizer=Adam(learning_rate=learning_rate),\n",
    "    loss=\"binary_crossentropy\",\n",
    "    metrics=metrics,\n",
    ")\n",
    "model.summary()"
   ]
  },
  {
   "cell_type": "markdown",
   "id": "binding-large",
   "metadata": {},
   "source": [
    "# Train"
   ]
  },
  {
   "cell_type": "code",
   "execution_count": 34,
   "id": "aefbe551",
   "metadata": {},
   "outputs": [
    {
     "data": {
      "application/javascript": [
       "\n",
       "            setTimeout(function() {\n",
       "                var nbb_cell_id = 34;\n",
       "                var nbb_unformatted_code = \"X_train = X_train.to_numpy() if isinstance(X_train, pd.DataFrame) else X_train\\ny_train = y_train.to_numpy() if isinstance(y_train, pd.Series) else y_train\\nX_val = X_val.to_numpy() if isinstance(X_val, pd.DataFrame) else X_val\\ny_val = y_val.to_numpy() if isinstance(y_val, pd.Series) else y_val\";\n",
       "                var nbb_formatted_code = \"X_train = X_train.to_numpy() if isinstance(X_train, pd.DataFrame) else X_train\\ny_train = y_train.to_numpy() if isinstance(y_train, pd.Series) else y_train\\nX_val = X_val.to_numpy() if isinstance(X_val, pd.DataFrame) else X_val\\ny_val = y_val.to_numpy() if isinstance(y_val, pd.Series) else y_val\";\n",
       "                var nbb_cells = Jupyter.notebook.get_cells();\n",
       "                for (var i = 0; i < nbb_cells.length; ++i) {\n",
       "                    if (nbb_cells[i].input_prompt_number == nbb_cell_id) {\n",
       "                        if (nbb_cells[i].get_text() == nbb_unformatted_code) {\n",
       "                             nbb_cells[i].set_text(nbb_formatted_code);\n",
       "                        }\n",
       "                        break;\n",
       "                    }\n",
       "                }\n",
       "            }, 500);\n",
       "            "
      ],
      "text/plain": [
       "<IPython.core.display.Javascript object>"
      ]
     },
     "metadata": {},
     "output_type": "display_data"
    }
   ],
   "source": [
    "X_train = X_train.to_numpy() if isinstance(X_train, pd.DataFrame) else X_train\n",
    "y_train = y_train.to_numpy() if isinstance(y_train, pd.Series) else y_train\n",
    "X_val = X_val.to_numpy() if isinstance(X_val, pd.DataFrame) else X_val\n",
    "y_val = y_val.to_numpy() if isinstance(y_val, pd.Series) else y_val"
   ]
  },
  {
   "cell_type": "code",
   "execution_count": 35,
   "id": "necessary-flower",
   "metadata": {
    "scrolled": true
   },
   "outputs": [
    {
     "name": "stdout",
     "output_type": "stream",
     "text": [
      "learning rate: 0.001\n",
      "Epoch 1/20\n",
      "\u001b[1m500/500\u001b[0m \u001b[32m━━━━━━━━━━━━━━━━━━━━\u001b[0m\u001b[37m\u001b[0m \u001b[1m1s\u001b[0m 1ms/step - accuracy: 0.7816 - loss: 0.5261 - precision: 0.3226 - recall: 0.6693 - val_accuracy: 0.7095 - val_loss: 0.5097 - val_precision: 0.3048 - val_recall: 0.9248 - learning_rate: 0.0010\n",
      "Epoch 2/20\n",
      "\u001b[1m500/500\u001b[0m \u001b[32m━━━━━━━━━━━━━━━━━━━━\u001b[0m\u001b[37m\u001b[0m \u001b[1m0s\u001b[0m 814us/step - accuracy: 0.7463 - loss: 0.4341 - precision: 0.3367 - recall: 0.9097 - val_accuracy: 0.6580 - val_loss: 0.5758 - val_precision: 0.2781 - val_recall: 0.9850 - learning_rate: 0.0010\n",
      "Epoch 3/20\n",
      "\u001b[1m500/500\u001b[0m \u001b[32m━━━━━━━━━━━━━━━━━━━━\u001b[0m\u001b[37m\u001b[0m \u001b[1m0s\u001b[0m 830us/step - accuracy: 0.7408 - loss: 0.3949 - precision: 0.3344 - recall: 0.9505 - val_accuracy: 0.7265 - val_loss: 0.4793 - val_precision: 0.3201 - val_recall: 0.9398 - learning_rate: 0.0010\n",
      "Epoch 4/20\n",
      "\u001b[1m500/500\u001b[0m \u001b[32m━━━━━━━━━━━━━━━━━━━━\u001b[0m\u001b[37m\u001b[0m \u001b[1m0s\u001b[0m 769us/step - accuracy: 0.7414 - loss: 0.3881 - precision: 0.3373 - recall: 0.9578 - val_accuracy: 0.7085 - val_loss: 0.3984 - val_precision: 0.3097 - val_recall: 0.9699 - learning_rate: 0.0010\n",
      "learning rate: 0.00070000003\n",
      "Epoch 5/20\n",
      "\u001b[1m500/500\u001b[0m \u001b[32m━━━━━━━━━━━━━━━━━━━━\u001b[0m\u001b[37m\u001b[0m \u001b[1m0s\u001b[0m 763us/step - accuracy: 0.7352 - loss: 0.3943 - precision: 0.3403 - recall: 0.9668 - val_accuracy: 0.7210 - val_loss: 0.4363 - val_precision: 0.3166 - val_recall: 0.9474 - learning_rate: 7.0000e-04\n",
      "Epoch 6/20\n",
      "\u001b[1m500/500\u001b[0m \u001b[32m━━━━━━━━━━━━━━━━━━━━\u001b[0m\u001b[37m\u001b[0m \u001b[1m0s\u001b[0m 823us/step - accuracy: 0.7426 - loss: 0.3825 - precision: 0.3332 - recall: 0.9599 - val_accuracy: 0.7160 - val_loss: 0.4250 - val_precision: 0.3122 - val_recall: 0.9436 - learning_rate: 7.0000e-04\n",
      "Epoch 7/20\n",
      "\u001b[1m500/500\u001b[0m \u001b[32m━━━━━━━━━━━━━━━━━━━━\u001b[0m\u001b[37m\u001b[0m \u001b[1m0s\u001b[0m 808us/step - accuracy: 0.7403 - loss: 0.3827 - precision: 0.3275 - recall: 0.9628 - val_accuracy: 0.7130 - val_loss: 0.4522 - val_precision: 0.3103 - val_recall: 0.9474 - learning_rate: 7.0000e-04\n",
      "Epoch 8/20\n",
      "\u001b[1m500/500\u001b[0m \u001b[32m━━━━━━━━━━━━━━━━━━━━\u001b[0m\u001b[37m\u001b[0m \u001b[1m0s\u001b[0m 869us/step - accuracy: 0.7426 - loss: 0.3882 - precision: 0.3427 - recall: 0.9633 - val_accuracy: 0.7225 - val_loss: 0.4331 - val_precision: 0.3164 - val_recall: 0.9361 - learning_rate: 7.0000e-04\n",
      "Epoch 9/20\n",
      "\u001b[1m500/500\u001b[0m \u001b[32m━━━━━━━━━━━━━━━━━━━━\u001b[0m\u001b[37m\u001b[0m \u001b[1m0s\u001b[0m 814us/step - accuracy: 0.7365 - loss: 0.3944 - precision: 0.3315 - recall: 0.9558 - val_accuracy: 0.7220 - val_loss: 0.4408 - val_precision: 0.3165 - val_recall: 0.9398 - learning_rate: 7.0000e-04\n",
      "learning rate: 0.00049\n",
      "Epoch 10/20\n",
      "\u001b[1m500/500\u001b[0m \u001b[32m━━━━━━━━━━━━━━━━━━━━\u001b[0m\u001b[37m\u001b[0m \u001b[1m0s\u001b[0m 768us/step - accuracy: 0.7499 - loss: 0.3638 - precision: 0.3411 - recall: 0.9654 - val_accuracy: 0.7185 - val_loss: 0.4291 - val_precision: 0.3141 - val_recall: 0.9436 - learning_rate: 4.9000e-04\n",
      "Epoch 11/20\n",
      "\u001b[1m500/500\u001b[0m \u001b[32m━━━━━━━━━━━━━━━━━━━━\u001b[0m\u001b[37m\u001b[0m \u001b[1m0s\u001b[0m 832us/step - accuracy: 0.7403 - loss: 0.3734 - precision: 0.3406 - recall: 0.9788 - val_accuracy: 0.7175 - val_loss: 0.4329 - val_precision: 0.3134 - val_recall: 0.9436 - learning_rate: 4.9000e-04\n",
      "Epoch 12/20\n",
      "\u001b[1m500/500\u001b[0m \u001b[32m━━━━━━━━━━━━━━━━━━━━\u001b[0m\u001b[37m\u001b[0m \u001b[1m0s\u001b[0m 772us/step - accuracy: 0.7417 - loss: 0.3723 - precision: 0.3357 - recall: 0.9655 - val_accuracy: 0.7195 - val_loss: 0.4391 - val_precision: 0.3149 - val_recall: 0.9436 - learning_rate: 4.9000e-04\n",
      "Epoch 13/20\n",
      "\u001b[1m500/500\u001b[0m \u001b[32m━━━━━━━━━━━━━━━━━━━━\u001b[0m\u001b[37m\u001b[0m \u001b[1m0s\u001b[0m 810us/step - accuracy: 0.7399 - loss: 0.3660 - precision: 0.3278 - recall: 0.9677 - val_accuracy: 0.7205 - val_loss: 0.4145 - val_precision: 0.3157 - val_recall: 0.9436 - learning_rate: 4.9000e-04\n",
      "Epoch 14/20\n",
      "\u001b[1m500/500\u001b[0m \u001b[32m━━━━━━━━━━━━━━━━━━━━\u001b[0m\u001b[37m\u001b[0m \u001b[1m0s\u001b[0m 763us/step - accuracy: 0.7406 - loss: 0.3785 - precision: 0.3332 - recall: 0.9636 - val_accuracy: 0.7085 - val_loss: 0.4749 - val_precision: 0.3069 - val_recall: 0.9474 - learning_rate: 4.9000e-04\n",
      "learning rate: 0.000343\n",
      "Epoch 15/20\n",
      "\u001b[1m500/500\u001b[0m \u001b[32m━━━━━━━━━━━━━━━━━━━━\u001b[0m\u001b[37m\u001b[0m \u001b[1m0s\u001b[0m 815us/step - accuracy: 0.7429 - loss: 0.3634 - precision: 0.3441 - recall: 0.9807 - val_accuracy: 0.7125 - val_loss: 0.4291 - val_precision: 0.3095 - val_recall: 0.9436 - learning_rate: 3.4300e-04\n",
      "Epoch 16/20\n",
      "\u001b[1m500/500\u001b[0m \u001b[32m━━━━━━━━━━━━━━━━━━━━\u001b[0m\u001b[37m\u001b[0m \u001b[1m0s\u001b[0m 786us/step - accuracy: 0.7497 - loss: 0.3603 - precision: 0.3439 - recall: 0.9738 - val_accuracy: 0.7210 - val_loss: 0.4188 - val_precision: 0.3157 - val_recall: 0.9398 - learning_rate: 3.4300e-04\n",
      "Epoch 17/20\n",
      "\u001b[1m500/500\u001b[0m \u001b[32m━━━━━━━━━━━━━━━━━━━━\u001b[0m\u001b[37m\u001b[0m \u001b[1m0s\u001b[0m 786us/step - accuracy: 0.7377 - loss: 0.3734 - precision: 0.3433 - recall: 0.9690 - val_accuracy: 0.7270 - val_loss: 0.4087 - val_precision: 0.3196 - val_recall: 0.9323 - learning_rate: 3.4300e-04\n",
      "Epoch 18/20\n",
      "\u001b[1m500/500\u001b[0m \u001b[32m━━━━━━━━━━━━━━━━━━━━\u001b[0m\u001b[37m\u001b[0m \u001b[1m0s\u001b[0m 812us/step - accuracy: 0.7404 - loss: 0.3647 - precision: 0.3297 - recall: 0.9728 - val_accuracy: 0.7040 - val_loss: 0.4515 - val_precision: 0.3050 - val_recall: 0.9586 - learning_rate: 3.4300e-04\n",
      "Epoch 19/20\n",
      "\u001b[1m500/500\u001b[0m \u001b[32m━━━━━━━━━━━━━━━━━━━━\u001b[0m\u001b[37m\u001b[0m \u001b[1m0s\u001b[0m 819us/step - accuracy: 0.7419 - loss: 0.3711 - precision: 0.3466 - recall: 0.9770 - val_accuracy: 0.7175 - val_loss: 0.4339 - val_precision: 0.3134 - val_recall: 0.9436 - learning_rate: 3.4300e-04\n",
      "learning rate: 0.0002401\n",
      "Epoch 20/20\n",
      "\u001b[1m500/500\u001b[0m \u001b[32m━━━━━━━━━━━━━━━━━━━━\u001b[0m\u001b[37m\u001b[0m \u001b[1m0s\u001b[0m 830us/step - accuracy: 0.7399 - loss: 0.3724 - precision: 0.3359 - recall: 0.9693 - val_accuracy: 0.7105 - val_loss: 0.4382 - val_precision: 0.3084 - val_recall: 0.9474 - learning_rate: 2.4010e-04\n"
     ]
    },
    {
     "data": {
      "application/javascript": [
       "\n",
       "            setTimeout(function() {\n",
       "                var nbb_cell_id = 35;\n",
       "                var nbb_unformatted_code = \"history = model.fit(\\n    x=X_train,\\n    y=y_train,\\n    validation_data=(X_val, y_val),\\n    callbacks=[learning_rate_decay, early_stop],\\n    epochs=epochs,\\n    batch_size=batch_size,\\n    class_weight=class_weight,\\n    verbose=1,\\n)\";\n",
       "                var nbb_formatted_code = \"history = model.fit(\\n    x=X_train,\\n    y=y_train,\\n    validation_data=(X_val, y_val),\\n    callbacks=[learning_rate_decay, early_stop],\\n    epochs=epochs,\\n    batch_size=batch_size,\\n    class_weight=class_weight,\\n    verbose=1,\\n)\";\n",
       "                var nbb_cells = Jupyter.notebook.get_cells();\n",
       "                for (var i = 0; i < nbb_cells.length; ++i) {\n",
       "                    if (nbb_cells[i].input_prompt_number == nbb_cell_id) {\n",
       "                        if (nbb_cells[i].get_text() == nbb_unformatted_code) {\n",
       "                             nbb_cells[i].set_text(nbb_formatted_code);\n",
       "                        }\n",
       "                        break;\n",
       "                    }\n",
       "                }\n",
       "            }, 500);\n",
       "            "
      ],
      "text/plain": [
       "<IPython.core.display.Javascript object>"
      ]
     },
     "metadata": {},
     "output_type": "display_data"
    }
   ],
   "source": [
    "history = model.fit(\n",
    "    x=X_train,\n",
    "    y=y_train,\n",
    "    validation_data=(X_val, y_val),\n",
    "    callbacks=[learning_rate_decay, early_stop],\n",
    "    epochs=epochs,\n",
    "    batch_size=batch_size,\n",
    "    class_weight=class_weight,\n",
    "    verbose=1,\n",
    ")"
   ]
  },
  {
   "cell_type": "code",
   "execution_count": 36,
   "id": "novel-postage",
   "metadata": {},
   "outputs": [
    {
     "data": {
      "text/plain": [
       "dict_keys(['accuracy', 'loss', 'precision', 'recall', 'val_accuracy', 'val_loss', 'val_precision', 'val_recall', 'learning_rate'])"
      ]
     },
     "execution_count": 36,
     "metadata": {},
     "output_type": "execute_result"
    },
    {
     "data": {
      "application/javascript": [
       "\n",
       "            setTimeout(function() {\n",
       "                var nbb_cell_id = 36;\n",
       "                var nbb_unformatted_code = \"history_dict = history.history\\nhistory_dict.keys()\";\n",
       "                var nbb_formatted_code = \"history_dict = history.history\\nhistory_dict.keys()\";\n",
       "                var nbb_cells = Jupyter.notebook.get_cells();\n",
       "                for (var i = 0; i < nbb_cells.length; ++i) {\n",
       "                    if (nbb_cells[i].input_prompt_number == nbb_cell_id) {\n",
       "                        if (nbb_cells[i].get_text() == nbb_unformatted_code) {\n",
       "                             nbb_cells[i].set_text(nbb_formatted_code);\n",
       "                        }\n",
       "                        break;\n",
       "                    }\n",
       "                }\n",
       "            }, 500);\n",
       "            "
      ],
      "text/plain": [
       "<IPython.core.display.Javascript object>"
      ]
     },
     "metadata": {},
     "output_type": "display_data"
    }
   ],
   "source": [
    "history_dict = history.history\n",
    "history_dict.keys()"
   ]
  },
  {
   "cell_type": "code",
   "execution_count": 37,
   "id": "needed-auditor",
   "metadata": {},
   "outputs": [
    {
     "data": {
      "image/png": "[encoded data removed]",
      "text/plain": [
       "<Figure size 1000x500 with 1 Axes>"
      ]
     },
     "metadata": {},
     "output_type": "display_data"
    },
    {
     "data": {
      "application/javascript": [
       "\n",
       "            setTimeout(function() {\n",
       "                var nbb_cell_id = 37;\n",
       "                var nbb_unformatted_code = \"loss_values = history_dict[\\\"loss\\\"]\\nval_loss_values = history_dict[\\\"val_loss\\\"]\\nepochs_plot = range(1, len(loss_values) + 1)\\n\\nplt.figure(figsize=(10, 5))\\nplt.plot(epochs_plot, loss_values, color=\\\"r\\\", label=\\\"Train\\\")\\nplt.plot(epochs_plot, val_loss_values, color=\\\"b\\\", label=\\\"Valid\\\")\\nplt.legend(loc=\\\"upper right\\\")\\nplt.xlabel(\\\"Epochs\\\")\\nplt.ylabel(\\\"Loss\\\")\\nplt.show()\";\n",
       "                var nbb_formatted_code = \"loss_values = history_dict[\\\"loss\\\"]\\nval_loss_values = history_dict[\\\"val_loss\\\"]\\nepochs_plot = range(1, len(loss_values) + 1)\\n\\nplt.figure(figsize=(10, 5))\\nplt.plot(epochs_plot, loss_values, color=\\\"r\\\", label=\\\"Train\\\")\\nplt.plot(epochs_plot, val_loss_values, color=\\\"b\\\", label=\\\"Valid\\\")\\nplt.legend(loc=\\\"upper right\\\")\\nplt.xlabel(\\\"Epochs\\\")\\nplt.ylabel(\\\"Loss\\\")\\nplt.show()\";\n",
       "                var nbb_cells = Jupyter.notebook.get_cells();\n",
       "                for (var i = 0; i < nbb_cells.length; ++i) {\n",
       "                    if (nbb_cells[i].input_prompt_number == nbb_cell_id) {\n",
       "                        if (nbb_cells[i].get_text() == nbb_unformatted_code) {\n",
       "                             nbb_cells[i].set_text(nbb_formatted_code);\n",
       "                        }\n",
       "                        break;\n",
       "                    }\n",
       "                }\n",
       "            }, 500);\n",
       "            "
      ],
      "text/plain": [
       "<IPython.core.display.Javascript object>"
      ]
     },
     "metadata": {},
     "output_type": "display_data"
    }
   ],
   "source": [
    "loss_values = history_dict[\"loss\"]\n",
    "val_loss_values = history_dict[\"val_loss\"]\n",
    "epochs_plot = range(1, len(loss_values) + 1)\n",
    "\n",
    "plt.figure(figsize=(10, 5))\n",
    "plt.plot(epochs_plot, loss_values, color=\"r\", label=\"Train\")\n",
    "plt.plot(epochs_plot, val_loss_values, color=\"b\", label=\"Valid\")\n",
    "plt.legend(loc=\"upper right\")\n",
    "plt.xlabel(\"Epochs\")\n",
    "plt.ylabel(\"Loss\")\n",
    "plt.show()"
   ]
  },
  {
   "cell_type": "code",
   "execution_count": 38,
   "id": "emerging-giant",
   "metadata": {},
   "outputs": [
    {
     "name": "stdout",
     "output_type": "stream",
     "text": [
      "validation accuracy  : 0.711\n",
      "validation loss      : 0.438\n",
      "validation precision : 0.308\n",
      "validation recall    : 0.947\n"
     ]
    },
    {
     "data": {
      "application/javascript": [
       "\n",
       "            setTimeout(function() {\n",
       "                var nbb_cell_id = 38;\n",
       "                var nbb_unformatted_code = \"for k, v in model.evaluate(x=X_val, y=y_val, verbose=0, return_dict=True).items():\\n    print(f\\\"validation {k:10}: {v:.3f}\\\")\";\n",
       "                var nbb_formatted_code = \"for k, v in model.evaluate(x=X_val, y=y_val, verbose=0, return_dict=True).items():\\n    print(f\\\"validation {k:10}: {v:.3f}\\\")\";\n",
       "                var nbb_cells = Jupyter.notebook.get_cells();\n",
       "                for (var i = 0; i < nbb_cells.length; ++i) {\n",
       "                    if (nbb_cells[i].input_prompt_number == nbb_cell_id) {\n",
       "                        if (nbb_cells[i].get_text() == nbb_unformatted_code) {\n",
       "                             nbb_cells[i].set_text(nbb_formatted_code);\n",
       "                        }\n",
       "                        break;\n",
       "                    }\n",
       "                }\n",
       "            }, 500);\n",
       "            "
      ],
      "text/plain": [
       "<IPython.core.display.Javascript object>"
      ]
     },
     "metadata": {},
     "output_type": "display_data"
    }
   ],
   "source": [
    "for k, v in model.evaluate(x=X_val, y=y_val, verbose=0, return_dict=True).items():\n",
    "    print(f\"validation {k:10}: {v:.3f}\")"
   ]
  },
  {
   "cell_type": "markdown",
   "id": "stupid-anthropology",
   "metadata": {},
   "source": [
    "# Check inference"
   ]
  },
  {
   "cell_type": "code",
   "execution_count": 39,
   "id": "f522e364",
   "metadata": {},
   "outputs": [
    {
     "data": {
      "application/javascript": [
       "\n",
       "            setTimeout(function() {\n",
       "                var nbb_cell_id = 39;\n",
       "                var nbb_unformatted_code = \"X_val = pd.DataFrame(X_val)\\ny_val = pd.DataFrame(y_val)\";\n",
       "                var nbb_formatted_code = \"X_val = pd.DataFrame(X_val)\\ny_val = pd.DataFrame(y_val)\";\n",
       "                var nbb_cells = Jupyter.notebook.get_cells();\n",
       "                for (var i = 0; i < nbb_cells.length; ++i) {\n",
       "                    if (nbb_cells[i].input_prompt_number == nbb_cell_id) {\n",
       "                        if (nbb_cells[i].get_text() == nbb_unformatted_code) {\n",
       "                             nbb_cells[i].set_text(nbb_formatted_code);\n",
       "                        }\n",
       "                        break;\n",
       "                    }\n",
       "                }\n",
       "            }, 500);\n",
       "            "
      ],
      "text/plain": [
       "<IPython.core.display.Javascript object>"
      ]
     },
     "metadata": {},
     "output_type": "display_data"
    }
   ],
   "source": [
    "X_val = pd.DataFrame(X_val)\n",
    "y_val = pd.DataFrame(y_val)"
   ]
  },
  {
   "cell_type": "code",
   "execution_count": 40,
   "id": "curious-thanksgiving",
   "metadata": {},
   "outputs": [
    {
     "name": "stdout",
     "output_type": "stream",
     "text": [
      "\u001b[1m63/63\u001b[0m \u001b[32m━━━━━━━━━━━━━━━━━━━━\u001b[0m\u001b[37m\u001b[0m \u001b[1m0s\u001b[0m 660us/step\n",
      "Best threshold: 0.700, Best fscore: 0.498\n"
     ]
    },
    {
     "data": {
      "image/png": "[encoded data removed]",
      "text/plain": [
       "<Figure size 640x480 with 1 Axes>"
      ]
     },
     "metadata": {},
     "output_type": "display_data"
    },
    {
     "data": {
      "application/javascript": [
       "\n",
       "            setTimeout(function() {\n",
       "                var nbb_cell_id = 40;\n",
       "                var nbb_unformatted_code = \"preds_proba_valid = model.predict(X_val)\\npreds_proba_valid = [p for p in preds_proba_valid]\\n\\nbest_thres = find_threshold(\\n    true_values=y_val.values, predictions_proba=preds_proba_valid, plot_pr=True\\n)\";\n",
       "                var nbb_formatted_code = \"preds_proba_valid = model.predict(X_val)\\npreds_proba_valid = [p for p in preds_proba_valid]\\n\\nbest_thres = find_threshold(\\n    true_values=y_val.values, predictions_proba=preds_proba_valid, plot_pr=True\\n)\";\n",
       "                var nbb_cells = Jupyter.notebook.get_cells();\n",
       "                for (var i = 0; i < nbb_cells.length; ++i) {\n",
       "                    if (nbb_cells[i].input_prompt_number == nbb_cell_id) {\n",
       "                        if (nbb_cells[i].get_text() == nbb_unformatted_code) {\n",
       "                             nbb_cells[i].set_text(nbb_formatted_code);\n",
       "                        }\n",
       "                        break;\n",
       "                    }\n",
       "                }\n",
       "            }, 500);\n",
       "            "
      ],
      "text/plain": [
       "<IPython.core.display.Javascript object>"
      ]
     },
     "metadata": {},
     "output_type": "display_data"
    }
   ],
   "source": [
    "preds_proba_valid = model.predict(X_val)\n",
    "preds_proba_valid = [p for p in preds_proba_valid]\n",
    "\n",
    "best_thres = find_threshold(\n",
    "    true_values=y_val.values, predictions_proba=preds_proba_valid, plot_pr=True\n",
    ")"
   ]
  },
  {
   "cell_type": "code",
   "execution_count": 41,
   "id": "optical-bacon",
   "metadata": {},
   "outputs": [
    {
     "name": "stdout",
     "output_type": "stream",
     "text": [
      "If we choose the best threshold that maximizes F1-score\n",
      "\n",
      "              precision    recall  f1-score   support\n",
      "\n",
      "           0     0.9548    0.8033    0.8725      1734\n",
      "           1     0.3697    0.7519    0.4957       266\n",
      "\n",
      "    accuracy                         0.7965      2000\n",
      "   macro avg     0.6622    0.7776    0.6841      2000\n",
      "weighted avg     0.8769    0.7965    0.8224      2000\n",
      "\n"
     ]
    },
    {
     "data": {
      "application/javascript": [
       "\n",
       "            setTimeout(function() {\n",
       "                var nbb_cell_id = 41;\n",
       "                var nbb_unformatted_code = \"print(\\\"If we choose the best threshold that maximizes F1-score\\\\n\\\")\\nprint(\\n    classification_report(\\n        y_true=y_val,\\n        y_pred=np.asarray(preds_proba_valid > best_thres, dtype=int),\\n        target_names=[\\\"0\\\", \\\"1\\\"],\\n        digits=4,\\n    )\\n)\";\n",
       "                var nbb_formatted_code = \"print(\\\"If we choose the best threshold that maximizes F1-score\\\\n\\\")\\nprint(\\n    classification_report(\\n        y_true=y_val,\\n        y_pred=np.asarray(preds_proba_valid > best_thres, dtype=int),\\n        target_names=[\\\"0\\\", \\\"1\\\"],\\n        digits=4,\\n    )\\n)\";\n",
       "                var nbb_cells = Jupyter.notebook.get_cells();\n",
       "                for (var i = 0; i < nbb_cells.length; ++i) {\n",
       "                    if (nbb_cells[i].input_prompt_number == nbb_cell_id) {\n",
       "                        if (nbb_cells[i].get_text() == nbb_unformatted_code) {\n",
       "                             nbb_cells[i].set_text(nbb_formatted_code);\n",
       "                        }\n",
       "                        break;\n",
       "                    }\n",
       "                }\n",
       "            }, 500);\n",
       "            "
      ],
      "text/plain": [
       "<IPython.core.display.Javascript object>"
      ]
     },
     "metadata": {},
     "output_type": "display_data"
    }
   ],
   "source": [
    "print(\"If we choose the best threshold that maximizes F1-score\\n\")\n",
    "print(\n",
    "    classification_report(\n",
    "        y_true=y_val,\n",
    "        y_pred=np.asarray(preds_proba_valid > best_thres, dtype=int),\n",
    "        target_names=[\"0\", \"1\"],\n",
    "        digits=4,\n",
    "    )\n",
    ")"
   ]
  },
  {
   "cell_type": "markdown",
   "id": "vertical-beaver",
   "metadata": {},
   "source": [
    "## Reflection\n",
    "\n",
    "The task was a two-part project. First, I needed to explore and prepare data for training. Second, I needed to develop and train a classification model.\n",
    "\n",
    "With the data preprocess I needed to deal with different issues. It was hard to decide on some possible preprocessing steps without knowing the \"bigger picture\". However, the way to overall success was to carefully inspect the data and try a few modifications first. After that I could safely choose how to proceed further.\n",
    "\n",
    "Having highly imbalanced data also presented some challenges. I needed to choose the metrics wisely. Since we have binary data, I decided to proceed with `f1-score` and `precision`/`recall` trade-off. Again, without knowing the business value it is hard to say what we should look at.\n",
    "\n",
    "I chose to explore two different approaches - \"random forest\" classifier and a simple neural network. Seems like the classic way would be to use \"random forest\" with the data that was presented. However, it was interesting to check if we can have a better result using neural nets. In the end, the neural network performed on par the \"random forest\".\n",
    "\n",
    "In order to get better results we might do the follow:\n",
    "- Tune hyperparameters for both models (e.g. using grid or random search)\n",
    "- Get more training data\n",
    "- Experiment with oversampling (e.g., SMOTE) or undersampling alongside current techniques\n",
    "- Introduce some data augmentations such as jitter and scaling\n",
    "- Use different sampling techniques (sample rare class more frequently)\n",
    "- Revisit missing value imputation with more context-aware methods\n",
    "- Consider removing redundant features based on feature importance\n",
    "- Use cross-validation to ensure the reported results are consistent across folds"
   ]
  },
  {
   "cell_type": "code",
   "execution_count": null,
   "id": "plain-indicator",
   "metadata": {},
   "outputs": [],
   "source": [
    " "
   ]
  }
 ],
 "metadata": {
  "kernelspec": {
   "display_name": "Python 3 (ipykernel)",
   "language": "python",
   "name": "python3"
  },
  "language_info": {
   "codemirror_mode": {
    "name": "ipython",
    "version": 3
   },
   "file_extension": ".py",
   "mimetype": "text/x-python",
   "name": "python",
   "nbconvert_exporter": "python",
   "pygments_lexer": "ipython3",
   "version": "3.9.9"
  }
 },
 "nbformat": 4,
 "nbformat_minor": 5
}
